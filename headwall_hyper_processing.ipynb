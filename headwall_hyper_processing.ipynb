{
 "cells": [
  {
   "cell_type": "code",
   "execution_count": 1,
   "metadata": {},
   "outputs": [],
   "source": [
    "# Imports\n",
    "\n",
    "%matplotlib nbagg\n",
    "# %matplotlib osx\n",
    "\n",
    "import os\n",
    "import re\n",
    "import shutil\n",
    "\n",
    "import spectral\n",
    "import matplotlib\n",
    "import matplotlib.pyplot as plt\n",
    "from tifffile import imsave\n",
    "import numpy as np\n",
    "from tkinter.filedialog import askdirectory, askopenfilenames\n",
    "from tkinter import Tk\n",
    "\n",
    "import general_funcs"
   ]
  },
  {
   "cell_type": "code",
   "execution_count": 9,
   "metadata": {},
   "outputs": [
    {
     "name": "stdout",
     "output_type": "stream",
     "text": [
      "['multi_or', 'multi_or.hdr']\n"
     ]
    }
   ],
   "source": [
    "# Extract all thermal images taken by thermal sensor mounted to headwall sensor\n",
    "\n",
    "# Tk().withdraw()\n",
    "input_folder = askdirectory(title='Select headwall thermal data folder')\n",
    "file_list = os.listdir(input_folder)\n",
    "print(file_list)\n",
    "# regex = re.compile('*.hdr')\n",
    "# filtered_file_list = [i for i in file_list if regex.search(i)]\n",
    "# filtered_file_list.sort(key=lambda file_name: int(re.split('_|\\.', file_name)[1]))\n",
    "# print('File folder:', input_folder)\n",
    "# print('Files used:', filtered_file_list)\n",
    "\n"
   ]
  },
  {
   "cell_type": "code",
   "execution_count": 11,
   "metadata": {},
   "outputs": [
    {
     "name": "stdout",
     "output_type": "stream",
     "text": [
      "multi_or.hdr\n",
      "Size: 6056 5296 3\n",
      "Average: -49152.0\n",
      "Min: -49152.0\n",
      "Max: -49151.465\n",
      "Variance: 0.0008742084\n",
      "\n"
     ]
    }
   ],
   "source": [
    "# Playground\n",
    "img_flag = 0\n",
    "for file_name in filtered_file_list:\n",
    "    img_chunk = spectral.open_image(os.path.join(input_folder, file_name))\n",
    "    h, w, d = img_chunk.shape\n",
    "    i_c = (img_chunk.asarray() - 49152)\n",
    "    print(file_name)\n",
    "    print('Size:', h, w, d)\n",
    "    print('Average:', i_c.mean())\n",
    "    print('Min:', i_c.min())\n",
    "    print('Max:', i_c.max())\n",
    "    print('Variance:', i_c.var())\n",
    "    print()"
   ]
  },
  {
   "cell_type": "code",
   "execution_count": 2,
   "metadata": {},
   "outputs": [
    {
     "name": "stdout",
     "output_type": "stream",
     "text": [
      "File folder: D:/UAV data - Original/C3B 2018 - headwall/100029_2018_08_03_15_46_28/m_o\n",
      "Files used: []\n"
     ]
    }
   ],
   "source": [
    "# Extract all thermal images taken by thermal sensor mounted to headwall sensor\n",
    "\n",
    "# Tk().withdraw()\n",
    "input_folder = askdirectory(title='Select headwall thermal data folder')\n",
    "file_list = os.listdir(input_folder)\n",
    "regex = re.compile('raw_\\d*\\.hdr')\n",
    "filtered_file_list = [i for i in file_list if regex.search(i)]\n",
    "filtered_file_list.sort(key=lambda file_name: int(re.split('_|\\.', file_name)[1]))\n",
    "print('File folder:', input_folder)\n",
    "print('Files used:', filtered_file_list)"
   ]
  },
  {
   "cell_type": "code",
   "execution_count": null,
   "metadata": {},
   "outputs": [],
   "source": [
    "output_folder = askdirectory(title='Choose output folder')\n",
    "img_chunks = []\n",
    "for file_name in filtered_file_list:\n",
    "    file = os.path.join(input_folder, file_name)\n",
    "    img_chunk = spectral.open_image(file).asarray()\n",
    "#     img_chunk = np.einsum('ijk->kij', img_chunk)\n",
    "    print(img_chunk.shape)\n",
    "    img_chunks.append(img_chunk)\n",
    "    output_file = os.path.join(output_folder, file_name + '_test.tiff')\n",
    "    imsave(output_file, img_chunk)"
   ]
  },
  {
   "cell_type": "code",
   "execution_count": null,
   "metadata": {},
   "outputs": [],
   "source": [
    "binary_repr_v = np.vectorize(np.binary_repr)\n",
    "test = binary_repr_v(img_chunk, 16)"
   ]
  },
  {
   "cell_type": "code",
   "execution_count": null,
   "metadata": {},
   "outputs": [],
   "source": [
    "img_chunks[5].mean()"
   ]
  }
 ],
 "metadata": {
  "kernelspec": {
   "display_name": "Python 3",
   "language": "python",
   "name": "python3"
  },
  "language_info": {
   "codemirror_mode": {
    "name": "ipython",
    "version": 3
   },
   "file_extension": ".py",
   "mimetype": "text/x-python",
   "name": "python",
   "nbconvert_exporter": "python",
   "pygments_lexer": "ipython3",
   "version": "3.8.5"
  }
 },
 "nbformat": 4,
 "nbformat_minor": 4
}
