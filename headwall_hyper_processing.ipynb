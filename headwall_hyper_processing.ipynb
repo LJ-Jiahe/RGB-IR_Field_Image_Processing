{
 "cells": [
  {
   "cell_type": "code",
   "execution_count": 1,
   "metadata": {},
   "outputs": [],
   "source": [
    "# Imports\n",
    "\n",
    "%matplotlib nbagg\n",
    "# %matplotlib osx\n",
    "\n",
    "import os\n",
    "import re\n",
    "import shutil\n",
    "\n",
    "import spectral\n",
    "import matplotlib\n",
    "import matplotlib.pyplot as plt\n",
    "from tifffile import imsave\n",
    "import numpy as np\n",
    "from tkinter.filedialog import askdirectory, askopenfilenames\n",
    "from tkinter import Tk\n",
    "\n",
    "import general_funcs"
   ]
  },
  {
   "cell_type": "code",
   "execution_count": 2,
   "metadata": {},
   "outputs": [
    {
     "name": "stdout",
     "output_type": "stream",
     "text": [
      "File folder: D:/UAV data - Original/C3B 2018 - headwall/100029_2018_08_03_15_46_28\n",
      "Files used: ['raw_0.hdr', 'raw_2000.hdr', 'raw_4000.hdr', 'raw_5389.hdr', 'raw_7389.hdr', 'raw_9389.hdr', 'raw_10811.hdr', 'raw_12811.hdr', 'raw_14811.hdr', 'raw_16233.hdr', 'raw_18233.hdr', 'raw_20233.hdr', 'raw_21690.hdr', 'raw_23690.hdr', 'raw_25690.hdr', 'raw_27113.hdr', 'raw_29113.hdr', 'raw_31113.hdr', 'raw_32570.hdr', 'raw_34570.hdr', 'raw_36570.hdr', 'raw_37993.hdr', 'raw_39993.hdr', 'raw_41993.hdr']\n"
     ]
    }
   ],
   "source": [
    "# Extract all thermal images taken by thermal sensor mounted to headwall sensor\n",
    "\n",
    "# Tk().withdraw()\n",
    "input_folder = askdirectory(title='Select headwall thermal data folder')\n",
    "file_list = os.listdir(input_folder)\n",
    "regex = re.compile('raw_\\d*\\.hdr')\n",
    "filtered_file_list = [i for i in file_list if regex.search(i)]\n",
    "filtered_file_list.sort(key=lambda file_name: int(re.split('_|\\.', file_name)[1]))\n",
    "print('File folder:', input_folder)\n",
    "print('Files used:', filtered_file_list)"
   ]
  },
  {
   "cell_type": "code",
   "execution_count": null,
   "metadata": {},
   "outputs": [
    {
     "name": "stdout",
     "output_type": "stream",
     "text": [
      "(272, 2000, 640)\n",
      "(272, 2000, 640)\n",
      "(272, 1389, 640)\n",
      "(272, 2000, 640)\n",
      "(272, 2000, 640)\n",
      "(272, 1422, 640)\n",
      "(272, 2000, 640)\n",
      "(272, 2000, 640)\n",
      "(272, 1422, 640)\n",
      "(272, 2000, 640)\n",
      "(272, 2000, 640)\n",
      "(272, 1457, 640)\n",
      "(272, 2000, 640)\n",
      "(272, 2000, 640)\n",
      "(272, 1423, 640)\n",
      "(272, 2000, 640)\n",
      "(272, 2000, 640)\n",
      "(272, 1457, 640)\n",
      "(272, 2000, 640)\n",
      "(272, 2000, 640)\n",
      "(272, 1423, 640)\n",
      "(272, 2000, 640)\n",
      "(272, 2000, 640)\n"
     ]
    }
   ],
   "source": [
    "output_folder = askdirectory(title='Choose output folder')\n",
    "img_chunks = []\n",
    "for file_name in filtered_file_list:\n",
    "    file = os.path.join(input_folder, file_name)\n",
    "    img_chunk = spectral.open_image(file).asarray()\n",
    "    img_chunk = np.einsum('ijk->kij', img_chunk)\n",
    "    print(img_chunk.shape)\n",
    "    img_chunks.append(img_chunk)\n",
    "    output_file = os.path.join(output_folder, file_name + '_test.tiff')\n",
    "    imsave(output_file, img_chunk)"
   ]
  },
  {
   "cell_type": "code",
   "execution_count": null,
   "metadata": {},
   "outputs": [],
   "source": []
  }
 ],
 "metadata": {
  "kernelspec": {
   "display_name": "Python 3",
   "language": "python",
   "name": "python3"
  },
  "language_info": {
   "codemirror_mode": {
    "name": "ipython",
    "version": 3
   },
   "file_extension": ".py",
   "mimetype": "text/x-python",
   "name": "python",
   "nbconvert_exporter": "python",
   "pygments_lexer": "ipython3",
   "version": "3.8.5"
  }
 },
 "nbformat": 4,
 "nbformat_minor": 4
}
