{
 "cells": [
  {
   "cell_type": "code",
   "execution_count": 1,
   "metadata": {},
   "outputs": [],
   "source": [
    "# Imports\n",
    "\n",
    "%matplotlib nbagg\n",
    "# %matplotlib osx\n",
    "\n",
    "import os\n",
    "import re\n",
    "import shutil\n",
    "\n",
    "import spectral\n",
    "import matplotlib\n",
    "import matplotlib.pyplot as plt\n",
    "from tifffile import imsave\n",
    "import numpy as np\n",
    "from tkinter.filedialog import askdirectory, askopenfilenames\n",
    "from tkinter import Tk\n",
    "\n",
    "import general_funcs"
   ]
  },
  {
   "cell_type": "code",
   "execution_count": 2,
   "metadata": {},
   "outputs": [
    {
     "name": "stdout",
     "output_type": "stream",
     "text": [
      "File folder: /Users/lj/Downloads/2018_RB_HYPER_100018_2018_07_23_18_51_56\n",
      "Files used: ['raw_0.hdr', 'raw_2000.hdr', 'raw_4000.hdr', 'raw_6000.hdr', 'raw_8000.hdr', 'raw_8823.hdr', 'raw_10823.hdr', 'raw_12823.hdr', 'raw_14823.hdr', 'raw_16823.hdr', 'raw_17595.hdr', 'raw_19595.hdr', 'raw_21595.hdr', 'raw_23595.hdr', 'raw_25595.hdr', 'raw_26333.hdr', 'raw_28333.hdr', 'raw_30333.hdr', 'raw_32333.hdr', 'raw_34333.hdr']\n"
     ]
    }
   ],
   "source": [
    "# Extract all thermal images taken by thermal sensor mounted to headwall sensor\n",
    "\n",
    "# Tk().withdraw()\n",
    "input_folder = askdirectory(title='Select headwall thermal data folder')\n",
    "file_list = os.listdir(input_folder)\n",
    "regex = re.compile('raw_\\d*\\.hdr')\n",
    "filtered_file_list = [i for i in file_list if regex.search(i)]\n",
    "filtered_file_list.sort(key=lambda file_name: int(re.split('_|\\.', file_name)[1]))\n",
    "print('File folder:', input_folder)\n",
    "print('Files used:', filtered_file_list)"
   ]
  },
  {
   "cell_type": "code",
   "execution_count": 3,
   "metadata": {},
   "outputs": [
    {
     "name": "stdout",
     "output_type": "stream",
     "text": [
      "(2000, 640, 272)\n",
      "(2000, 640, 272)\n",
      "(2000, 640, 272)\n",
      "(2000, 640, 272)\n",
      "(823, 640, 272)\n",
      "(2000, 640, 272)\n",
      "(2000, 640, 272)\n",
      "(2000, 640, 272)\n",
      "(2000, 640, 272)\n",
      "(772, 640, 272)\n",
      "(2000, 640, 272)\n",
      "(2000, 640, 272)\n",
      "(2000, 640, 272)\n",
      "(2000, 640, 272)\n",
      "(738, 640, 272)\n",
      "(2000, 640, 272)\n",
      "(2000, 640, 272)\n",
      "(2000, 640, 272)\n",
      "(2000, 640, 272)\n",
      "(823, 640, 272)\n"
     ]
    }
   ],
   "source": [
    "output_folder = askdirectory(title='Choose output folder')\n",
    "img_chunks = []\n",
    "for file_name in filtered_file_list:\n",
    "    file = os.path.join(input_folder, file_name)\n",
    "    img_chunk = spectral.open_image(file).asarray()\n",
    "#     img_chunk = np.einsum('ijk->kij', img_chunk)\n",
    "    print(img_chunk.shape)\n",
    "    img_chunks.append(img_chunk)\n",
    "    output_file = os.path.join(output_folder, file_name + '_test.tiff')\n",
    "    imsave(output_file, img_chunk)"
   ]
  },
  {
   "cell_type": "code",
   "execution_count": 18,
   "metadata": {},
   "outputs": [],
   "source": [
    "binary_repr_v = np.vectorize(np.binary_repr)\n",
    "test = binary_repr_v(img_chunk, 16)"
   ]
  },
  {
   "cell_type": "code",
   "execution_count": 21,
   "metadata": {},
   "outputs": [
    {
     "data": {
      "text/plain": [
       "441.2335692440257"
      ]
     },
     "execution_count": 21,
     "metadata": {},
     "output_type": "execute_result"
    }
   ],
   "source": [
    "img_chunks[5].mean()"
   ]
  }
 ],
 "metadata": {
  "kernelspec": {
   "display_name": "Python 3",
   "language": "python",
   "name": "python3"
  },
  "language_info": {
   "codemirror_mode": {
    "name": "ipython",
    "version": 3
   },
   "file_extension": ".py",
   "mimetype": "text/x-python",
   "name": "python",
   "nbconvert_exporter": "python",
   "pygments_lexer": "ipython3",
   "version": "3.9.1"
  }
 },
 "nbformat": 4,
 "nbformat_minor": 4
}
