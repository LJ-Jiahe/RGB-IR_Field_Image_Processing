{
 "cells": [
  {
   "cell_type": "code",
   "execution_count": 14,
   "metadata": {
    "scrolled": true
   },
   "outputs": [
    {
     "name": "stdout",
     "output_type": "stream",
     "text": [
      "macOS\n",
      "Interactive plot activated\n",
      "\n",
      "Plot Notes\n",
      "\n",
      "Indices saved to /Users/lj/Library/Mobile Documents/com~apple~CloudDocs/Developer/RGB-IR_Field_Image_Processing/data/final_result/test.csv\n"
     ]
    }
   ],
   "source": [
    "# Save plot notes to file\n",
    "\n",
    "import gc\n",
    "import pickle\n",
    "import platform\n",
    "from tkinter import Tk\n",
    "from tkinter.filedialog import askopenfilename, asksaveasfilename\n",
    "\n",
    "from PIL import Image\n",
    "import matplotlib\n",
    "import matplotlib.pyplot as plt\n",
    "import matplotlib.image as mpimg\n",
    "import matplotlib.patches as patches\n",
    "from matplotlib.widgets import RectangleSelector, PolygonSelector\n",
    "import numpy as np\n",
    "from skimage import io, draw\n",
    "import mplcursors\n",
    "import IPython.display as Disp\n",
    "from ipywidgets import widgets\n",
    "import cv2\n",
    "from osgeo import gdal\n",
    "import pandas as pd\n",
    "\n",
    "import general_funcs\n",
    "\n",
    "\n",
    "# OS related settings\n",
    "if platform.system() == 'Windows':\n",
    "    print('Windows')\n",
    "    # %matplotlib nbagg\n",
    "    # Sometimes tk/qt will not let cells rerun after an ERROR occurs\n",
    "#     %matplotlib tk\n",
    "    %matplotlib qt\n",
    "elif platform.system() == 'Darwin':\n",
    "    print('macOS')\n",
    "    Tk().withdraw()\n",
    "    %matplotlib osx \n",
    "#     matplotlib.use('MacOSX')\n",
    "elif platform == 'linux' or platform == 'linux2':\n",
    "    print('Linux')\n",
    "# This line of \"print\" must exist right after %matplotlib command, \n",
    "# otherwise JN will hang on the first import statement after this.\n",
    "print('Interactive plot activated')\n",
    "\n",
    "\n",
    "plot_loc_file = askopenfilename(title='Load plot location file', initialdir='./data/plot_location')\n",
    "\n",
    "# Load GPS coordinate from file & Calculate pixel location\n",
    "try:\n",
    "    with open(plot_loc_file, 'rb') as f:\n",
    "        interested_area = pickle.load(f)\n",
    "        plot_vertices_gps = pickle.load(f)\n",
    "        plot_notes = pickle.load(f)\n",
    "except Exception as e:\n",
    "    showerror(type(e).__name__, str(e))\n",
    "\n",
    "print('\\nPlot Notes\\n')\n",
    "df = pd.DataFrame(data=np.column_stack((list(plot_notes.keys()), list(plot_notes.values()))),\n",
    "                  columns=['Plot Name', 'Plot Notes'])\n",
    "\n",
    "\n",
    "file_name = asksaveasfilename(filetypes=[('csv', '*.csv')], title='Save Indices', initialfile='', initialdir='./data/final_result/')\n",
    "\n",
    "if not file_name.endswith('.csv'):\n",
    "    file_name += '.csv'\n",
    "\n",
    "try:\n",
    "    df.to_csv(file_name)\n",
    "    print('Indices saved to', file_name)\n",
    "except Exception as e:\n",
    "    showerror(type(e).__name__, str(e))"
   ]
  }
 ],
 "metadata": {
  "kernelspec": {
   "display_name": "Python 3",
   "language": "python",
   "name": "python3"
  },
  "language_info": {
   "codemirror_mode": {
    "name": "ipython",
    "version": 3
   },
   "file_extension": ".py",
   "mimetype": "text/x-python",
   "name": "python",
   "nbconvert_exporter": "python",
   "pygments_lexer": "ipython3",
   "version": "3.9.1"
  }
 },
 "nbformat": 4,
 "nbformat_minor": 4
}
