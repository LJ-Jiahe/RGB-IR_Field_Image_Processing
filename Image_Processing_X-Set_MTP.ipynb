{
 "cells": [
  {
   "cell_type": "code",
   "execution_count": 1,
   "metadata": {
    "code_folding": [
     0
    ]
   },
   "outputs": [
    {
     "name": "stdout",
     "output_type": "stream",
     "text": [
      "Interactive plot activated\n"
     ]
    },
    {
     "data": {
      "text/html": [
       "<style>.container { width:100% !important; }</style>"
      ],
      "text/plain": [
       "<IPython.core.display.HTML object>"
      ]
     },
     "metadata": {},
     "output_type": "display_data"
    },
    {
     "name": "stdout",
     "output_type": "stream",
     "text": [
      "Image File: /Users/lj/Library/Mobile Documents/com~apple~CloudDocs/Developer/RGB-IR_Field_Image_Processing/data/field_image/BRC/BRC_20190904_121517_Thermal.tif\n",
      "Image Shape: (3060, 14710, 2)\n",
      "\n",
      "Done\n"
     ]
    }
   ],
   "source": [
    "# Import packages needed & load image\n",
    "import gc\n",
    "import pickle\n",
    "from tkinter import Tk\n",
    "from tkinter.filedialog import askopenfilename, asksaveasfilename\n",
    "import platform\n",
    "\n",
    "\n",
    "from PIL import Image\n",
    "import matplotlib\n",
    "import matplotlib.pyplot as plt\n",
    "import matplotlib.image as mpimg\n",
    "import matplotlib.patches as patches\n",
    "from matplotlib.widgets import RectangleSelector, PolygonSelector\n",
    "import numpy as np\n",
    "from skimage import io, draw\n",
    "import mplcursors\n",
    "import IPython.display as Disp\n",
    "from ipywidgets import widgets\n",
    "import cv2\n",
    "from osgeo import gdal\n",
    "import pandas as pd\n",
    "\n",
    "import general_funcs\n",
    "\n",
    "# OS related settings\n",
    "if platform.system() == 'Windows':\n",
    "    # %matplotlib nbagg\n",
    "    # Sometimes tk/qt will not let cells rerun after an ERROR occurs\n",
    "    # %matplotlib tk\n",
    "    %matplotlib qt\n",
    "elif platform.system() == 'Darwin':\n",
    "    Tk().withdraw()\n",
    "    %matplotlib osx\n",
    "elif platform == 'linux' or platform == 'linux2':\n",
    "    ;\n",
    "# This line of \"print\" must exist right after %matplotlib command, \n",
    "# otherwise JN will hang on the first import statement after this.\n",
    "print('Interactive plot activated')\n",
    "\n",
    "\n",
    "# Extend width of Jupyter Notebook Cell to the size of browser\n",
    "from IPython.core.display import display, HTML\n",
    "display(HTML(\"<style>.container { width:100% !important; }</style>\"))\n",
    "\n",
    "\n",
    "# Use skimage to load multi-layer tiff file\n",
    "# Tk().withdraw()\n",
    "image_file = askopenfilename(title='Load image file', initialdir='./data/field_image')\n",
    "img = io.imread(image_file)\n",
    "print('Image File:', image_file)\n",
    "print(\"Image Shape:\", img.shape)\n",
    "\n",
    "h, w, d = img.shape\n",
    "\n",
    "# Extract layers from the multilayer tiff file and do some adjustments\n",
    "layer_RGB, layer_IR, layer_mask = general_funcs.extract_layers(img)\n",
    "\n",
    "ds = gdal.Open(image_file)\n",
    "gt = ds.GetGeoTransform()\n",
    "lon_meter_per_pix, lat_meter_per_pix = general_funcs.meter_per_pix(gt)\n",
    "r = round(200 * lon_meter_per_pix)\n",
    "\n",
    "del(img)\n",
    "# Play sound when done\n",
    "general_funcs.done()"
   ]
  },
  {
   "cell_type": "code",
   "execution_count": 2,
   "metadata": {
    "code_folding": []
   },
   "outputs": [
    {
     "data": {
      "application/vnd.jupyter.widget-view+json": {
       "model_id": "7b2a0c6597d640ad8cbd8cef18fc26f1",
       "version_major": 2,
       "version_minor": 0
      },
      "text/plain": [
       "VBox(children=(Button(description='Open Reference Image', layout=Layout(width='auto'), style=ButtonStyle()), B…"
      ]
     },
     "metadata": {},
     "output_type": "display_data"
    },
    {
     "data": {
      "application/vnd.jupyter.widget-view+json": {
       "model_id": "cd212037640d48ca80c664f0f51632a1",
       "version_major": 2,
       "version_minor": 0
      },
      "text/plain": [
       "Output()"
      ]
     },
     "metadata": {},
     "output_type": "display_data"
    },
    {
     "name": "stderr",
     "output_type": "stream",
     "text": [
      "Traceback (most recent call last):\n",
      "  File \"/Users/lj/opt/miniconda3/envs/hyperspect/lib/python3.9/site-packages/matplotlib/cbook/__init__.py\", line 224, in process\n",
      "    func(*args, **kwargs)\n",
      "  File \"<ipython-input-2-3ddf7edd97e4>\", line 62, in on_click\n",
      "    x, y = round(event.xdata), round(event.ydata)\n",
      "TypeError: type NoneType doesn't define __round__ method\n"
     ]
    },
    {
     "name": "stdout",
     "output_type": "stream",
     "text": [
      "GPS coordinates saved to /Users/lj/Library/Mobile Documents/com~apple~CloudDocs/Developer/RGB-IR_Field_Image_Processing/data/mtp/BRC_20190904_121517_Thermal_mtp.pkl\n"
     ]
    },
    {
     "name": "stderr",
     "output_type": "stream",
     "text": [
      "Traceback (most recent call last):\n",
      "  File \"/Users/lj/opt/miniconda3/envs/hyperspect/lib/python3.9/site-packages/matplotlib/cbook/__init__.py\", line 224, in process\n",
      "    func(*args, **kwargs)\n",
      "  File \"<ipython-input-2-3ddf7edd97e4>\", line 62, in on_click\n",
      "    x, y = round(event.xdata), round(event.ydata)\n",
      "TypeError: type NoneType doesn't define __round__ method\n"
     ]
    }
   ],
   "source": [
    "# Select MTPs\n",
    "\n",
    "def show_MTP(ax):\n",
    "    mtp_ref_file = askopenfilename(title='Load MTP', initialdir='./data/mtp')\n",
    "    \n",
    "    try:\n",
    "        with open(mtp_ref_file, 'rb') as f:\n",
    "            mtp_ref = pickle.load(f)\n",
    "    except Exception as e:\n",
    "        showerror(type(e).__name__, str(e))\n",
    "    \n",
    "    for i in range(len(mtp_ref)):\n",
    "        x, y = mtp_ref[i]\n",
    "        ax.text(x, y, 'MTP ' + str(i+1))\n",
    "        \n",
    "        circle = patches.Circle([x, y], radius=r*10, color='red')\n",
    "        ax.add_patch(circle)\n",
    "\n",
    "\n",
    "def show_img_ref(button):\n",
    "    image_file_ref = askopenfilename(title='Load image file', initialdir='./data/field_image')\n",
    "    img_ref = io.imread(image_file_ref)\n",
    "    ds_ref = gdal.Open(image_file_ref)\n",
    "    gt_ref = ds_ref.GetGeoTransform()\n",
    "    \n",
    "#     plot_loc_file_ref = askopenfilename(title='Load plot location file', initialdir='./data/plot_location')\n",
    "#     try:\n",
    "#         with open(plot_loc_file_ref, 'rb') as f:\n",
    "#             interested_area_ref = pickle.load(f)\n",
    "#             plot_vertices_gps_ref = pickle.load(f)\n",
    "#             plot_notes_ref = pickle.load(f)\n",
    "#     except Exception as e:\n",
    "#         showerror(type(e).__name__, str(e))\n",
    "#     plot_vertices_ref = general_funcs.plotVGPS2plotV(plot_vertices_gps_ref, gt_ref)\n",
    "    \n",
    "    \n",
    "    h_ref, w_ref, d_ref = img_ref.shape\n",
    "    layer_RGB_ref, layer_IR_ref, layer_mask_ref = general_funcs.extract_layers(img_ref)\n",
    "    del(img_ref)\n",
    "    \n",
    "    \n",
    "    fig2, ax_ref = plt.subplots(figsize=(7, 7))\n",
    "    plt.subplots_adjust(left=0.05, bottom=0.05, right=0.95, top=0.95)\n",
    "\n",
    "    if d_ref == 5 or d_ref == 4:\n",
    "        myax_ref = ax_ref.imshow(layer_RGB_ref)\n",
    "    elif d_ref == 2:\n",
    "        mask_not_0_inds_ref = np.where(layer_mask_ref > 0)\n",
    "        vmin_ref, vmax_ref = general_funcs.cal_vmin_vmax(layer_IR_ref, layer_mask_ref)\n",
    "        myax_ref = ax_ref.imshow(layer_IR_ref, cmap='gist_gray', vmin=vmin_ref, vmax=vmax_ref)\n",
    "    \n",
    "    show_MTP(ax_ref)\n",
    "    \n",
    "\n",
    "def onselect(vert):\n",
    "    ;\n",
    "    \n",
    "    \n",
    "def set_mtp(mtp, fig):\n",
    "    tb = fig.canvas.toolbar\n",
    "    def on_click(event):\n",
    "        x, y = round(event.xdata), round(event.ydata)\n",
    "        if tb.mode == '':\n",
    "            mtp.append([x, y])\n",
    "            ax.text(x, y, 'MTP ' + str(len(mtp)))\n",
    "            \n",
    "            circle = patches.Circle([x, y], radius=r, color='red')\n",
    "            ax.add_patch(circle)\n",
    "    return(on_click)\n",
    "\n",
    "\n",
    "def reset_last_mtp(mtp, fig):\n",
    "    tb = fig.canvas.toolbar\n",
    "    def on_key(event):\n",
    "        if event.key == 'escape' and len(ax.texts) > 0:\n",
    "            ax.texts[-1].set_visible(False)\n",
    "            ax.texts.pop()\n",
    "            ax.patches.pop()\n",
    "            mtp.pop()\n",
    "    return(on_key)\n",
    "\n",
    "\n",
    "def save_mtp(button):\n",
    "    fn = image_file.split('/')[-1].split('.')[0]\n",
    "    file_name = asksaveasfilename(filetypes=[('pickle', '*.pkl')], title='Save MTP', initialfile=fn+'_mtp', initialdir='./data/mtp')\n",
    "    if not file_name:\n",
    "        return\n",
    "    if not file_name.endswith('.pkl'):\n",
    "        file_name += '.pkl'\n",
    "        \n",
    "    try:\n",
    "        with open(file_name, 'wb') as f:\n",
    "            pickle.dump(mtp, f)\n",
    "        print('GPS coordinates saved to', file_name)\n",
    "    except Exception as e:\n",
    "        showerror(type(e).__name__, str(e))\n",
    "\n",
    "# Button widgets\n",
    "button_layout = widgets.Layout(width='auto')\n",
    "button_show_img_ref = widgets.Button(description='Open Reference Image', layout=button_layout)\n",
    "button_save = widgets.Button(description='Save', layout=button_layout)\n",
    "# Box widgets\n",
    "box_layout = widgets.Layout(width='auto')\n",
    "all_widgets = widgets.VBox(children=[button_show_img_ref, button_save], layout=box_layout)\n",
    "display(all_widgets)\n",
    "\n",
    "button_show_img_ref.on_click(show_img_ref)\n",
    "button_save.on_click(save_mtp)\n",
    "\n",
    "out = widgets.Output()\n",
    "display(out)\n",
    "with out:\n",
    "    plt.close('all')\n",
    "    fig1, ax = plt.subplots(figsize=(7, 7))\n",
    "    plt.subplots_adjust(left=0.05, bottom=0.05, right=0.95, top=0.95)\n",
    "    if d == 5 or d == 4:\n",
    "        myax = ax.imshow(layer_RGB)\n",
    "    elif d == 2:\n",
    "        mask_not_0_inds = np.where(layer_mask > 0)\n",
    "        vmin, vmax = general_funcs.cal_vmin_vmax(layer_IR, layer_mask)\n",
    "        myax = ax.imshow(layer_IR, cmap='gist_gray', vmin=vmin, vmax=vmax)\n",
    "    #     cbar = fig.colorbar(myax)\n",
    "    ps = PolygonSelector(ax, onselect, useblit=True, lineprops=dict(linewidth=0), markerprops=dict(markersize=0, mec='r', mfc='y', alpha=0.5))\n",
    "    \n",
    "    mtp = []\n",
    "    \n",
    "    cid_set_mtp = fig1.canvas.mpl_connect('button_press_event', set_mtp(mtp, fig1))\n",
    "    cid_reset_last_mtp = fig1.canvas.mpl_connect('key_press_event', reset_last_mtp(mtp, fig1))"
   ]
  },
  {
   "cell_type": "code",
   "execution_count": 5,
   "metadata": {},
   "outputs": [],
   "source": [
    "mtp_ref_file = askopenfilename(title='Load MTP', initialdir='./data/mtp')\n",
    "    \n",
    "try:\n",
    "    with open(mtp_ref_file, 'rb') as f:\n",
    "        mtp_ref = pickle.load(f)\n",
    "except Exception as e:\n",
    "    showerror(type(e).__name__, str(e))"
   ]
  },
  {
   "cell_type": "code",
   "execution_count": 7,
   "metadata": {},
   "outputs": [
    {
     "name": "stdout",
     "output_type": "stream",
     "text": [
      "28\n"
     ]
    }
   ],
   "source": [
    "print(len(mtp_ref))"
   ]
  },
  {
   "cell_type": "code",
   "execution_count": null,
   "metadata": {},
   "outputs": [],
   "source": []
  }
 ],
 "metadata": {
  "kernelspec": {
   "display_name": "Python 3",
   "language": "python",
   "name": "python3"
  },
  "language_info": {
   "codemirror_mode": {
    "name": "ipython",
    "version": 3
   },
   "file_extension": ".py",
   "mimetype": "text/x-python",
   "name": "python",
   "nbconvert_exporter": "python",
   "pygments_lexer": "ipython3",
   "version": "3.9.1"
  }
 },
 "nbformat": 4,
 "nbformat_minor": 4
}
