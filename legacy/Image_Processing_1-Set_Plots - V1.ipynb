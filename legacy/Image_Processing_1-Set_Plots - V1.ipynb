{
 "cells": [
  {
   "cell_type": "markdown",
   "metadata": {},
   "source": [
    "# RGB-IR Image Process\n",
    "\n",
    "On this page you can load and interact with RGBI (red, green, blue, and infrared) imagery processed by LJ for Felix's lab.\n",
    "\n",
    "This is really easy to use. You can clik on a box and hit CTRL-ENTER, or, select a box and hit the Run button above. Or, you can do Cell->RunAll.\n",
    "\n",
    "What is cool is you can interact with it \"in place\" (e.g., edit) to get different results"
   ]
  },
  {
   "cell_type": "markdown",
   "metadata": {},
   "source": [
    "### Packages needed\n",
    "conda install -c anaconda pillow matplotlib ipywidgets pandas  \n",
    "conda install -c conda-forge mplcursors opencv scikit-image gdal notebook jupyter_contrib_nbextensions\n",
    "\n",
    "##### For cell collapsing\n",
    "1. conda install -c conda-forge jupyter_contrib_nbextensions\n",
    "2. jupyter contrib nbextension install --user\n",
    "3. jupyter nbextension enable codefolding/main"
   ]
  },
  {
   "cell_type": "code",
   "execution_count": 1,
   "metadata": {
    "code_folding": [
     0
    ]
   },
   "outputs": [
    {
     "name": "stdout",
     "output_type": "stream",
     "text": [
      "Interactive plot activated\n"
     ]
    }
   ],
   "source": [
    "# Editor appearance set up\n",
    "\n",
    "# Change backend for interactive plot\n",
    "# %matplotlib nbagg\n",
    "# %matplotlib osx\n",
    "%matplotlib tk\n",
    "# %matplotlib qt\n",
    "\n",
    "# This line of \"print\" must exist right after %matplotlib command, \n",
    "# otherwise JN will hang on the first import statement after this.\n",
    "print('Interactive plot activated')\n",
    "\n",
    "\n",
    "# Extend width of Jupyter Notebook Cell to the size of browser\n",
    "# from IPython.core.display import display, HTML\n",
    "# display(HTML(\"<style>.container { width:100% !important; }</style>\"))"
   ]
  },
  {
   "cell_type": "code",
   "execution_count": 3,
   "metadata": {
    "code_folding": [
     0
    ]
   },
   "outputs": [],
   "source": [
    "# Every parameter to be modified is here\n",
    "\n",
    "# Image directory\n",
    "directory = 'data/'\n",
    "ext = '.tif'\n",
    "file_name = 'RGB-IR-G4'\n",
    "file_name = 'stage2_sfm'\n",
    "image_file = directory + file_name + ext\n",
    "\n",
    "# Colormap\n",
    "cm = 'gist_gray'\n",
    "\n",
    "# Plot names\n",
    "pns = ['p1',\n",
    "       'p2',\n",
    "       'p3',]\n",
    "#        'p4',\n",
    "#        'p5',\n",
    "#        'p6',\n",
    "#        'p7',\n",
    "#        'p8',\n",
    "#        'p9',\n",
    "#        'p10']\n",
    "\n",
    "saved_params = file_name+'_saved_params'"
   ]
  },
  {
   "cell_type": "code",
   "execution_count": 2,
   "metadata": {
    "code_folding": [
     0
    ]
   },
   "outputs": [],
   "source": [
    "# Import packages needed\n",
    "\n",
    "from PIL import Image\n",
    "import matplotlib\n",
    "import matplotlib.pyplot as plt\n",
    "import matplotlib.image as mpimg\n",
    "import matplotlib.patches as patches\n",
    "from matplotlib.widgets  import RectangleSelector, PolygonSelector\n",
    "import numpy as np\n",
    "from skimage import io\n",
    "import mplcursors\n",
    "import IPython.display as Disp\n",
    "from ipywidgets import widgets\n",
    "import cv2\n",
    "from osgeo import gdal\n",
    "import pickle\n",
    "\n",
    "# import config as cfg"
   ]
  },
  {
   "cell_type": "code",
   "execution_count": 4,
   "metadata": {
    "code_folding": [
     0
    ]
   },
   "outputs": [
    {
     "name": "stdout",
     "output_type": "stream",
     "text": [
      "Image Shape:  (7690, 12484, 5)\n"
     ]
    }
   ],
   "source": [
    "# Load image and print size & pre-process\n",
    "\n",
    "# Use skimage to load multi-layer tiff file\n",
    "rgb_ir_img = io.imread(image_file)\n",
    "print(\"Image Shape: \", rgb_ir_img.shape)\n",
    "\n",
    "\n",
    "# Extract layers from the multilayer tiff file and do some adjustments\n",
    "layer_RGB = np.copy(rgb_ir_img[:, :, 0:3])\n",
    "layer_IR = np.copy(rgb_ir_img[:, :, 3])\n",
    "layer_mask = np.copy(rgb_ir_img[:, :, 4])\n",
    "\n",
    "# Change from 16 bit to 8 bit(max 65535 to max 255)\n",
    "layer_RGB = np.round(layer_RGB / 257)\n",
    "layer_RGB = layer_RGB.astype(int)\n",
    "\n",
    "# Set background to black (You can choose background color when exporting orthomosaic from agisoft, \n",
    "# the default is white)\n",
    "layer_RGB[np.where(layer_mask == 0)] = 0\n",
    "\n",
    "\n",
    "# IR values only ranges between arround 7000-8000, so we need to adjust the background to \n",
    "# a bit lower than the smallest value of thermal to make it well-spread on colormap\n",
    "layer_IR[np.where(layer_mask == 0)] = layer_IR.min() #// 100 * 100"
   ]
  },
  {
   "cell_type": "code",
   "execution_count": null,
   "metadata": {
    "code_folding": [
     0
    ]
   },
   "outputs": [],
   "source": [
    "# RGB to HSV (H 0-1, S 0-1, V 0-255)\n",
    "\n",
    "layer_HSV = matplotlib.colors.rgb_to_hsv(layer_RGB)\n",
    "\n",
    "layer_hue = layer_HSV[:, :, 0]\n",
    "layer_saturation = layer_HSV[:, :, 1]\n",
    "layer_value = layer_HSV[:, :, 2]"
   ]
  },
  {
   "cell_type": "code",
   "execution_count": 16,
   "metadata": {
    "code_folding": [
     0
    ]
   },
   "outputs": [
    {
     "name": "stdout",
     "output_type": "stream",
     "text": [
      "Click and drag to select area, press [x] to deactivate seletor, press [c] to continue selection\n"
     ]
    }
   ],
   "source": [
    "# Interested area pre-selection - Crop out the image for faster process\n",
    "\n",
    "fig, ax = plt.subplots(figsize=(7, 7))\n",
    "plt.subplots_adjust(left=0.05, bottom=0.05, right=0.95, top=0.95)\n",
    "myax = ax.imshow(layer_RGB)\n",
    "\n",
    "print('Click and drag to select area, press [x] to deactivate seletor, press [c] to continue selection')\n",
    "\n",
    "def line_select_callback(eclick, erelease):\n",
    "    x1, y1 = eclick.xdata, eclick.ydata\n",
    "    x2, y2 = erelease.xdata, erelease.ydata\n",
    "    \n",
    "def toggle_rect_selector(event):\n",
    "    if event.key in ['X', 'x'] and toggle_rect_selector.RS.active:\n",
    "        toggle_rect_selector.RS.set_active(False)\n",
    "        print('Selector deactivated')\n",
    "    if event.key in ['C', 'c'] and not toggle_rect_selector.RS.active:\n",
    "        toggle_rect_selector.RS.set_active(True)\n",
    "        print('Selector activated')\n",
    "\n",
    "toggle_rect_selector.RS = RectangleSelector(ax, line_select_callback,drawtype='box', useblit=True, button=[1], minspanx=50, minspany=50,\n",
    "                                            rectprops=dict(facecolor='red', edgecolor='black', alpha=0.1, fill=True), \n",
    "                                            spancoords='pixels', interactive=True)\n",
    "\n",
    "plt.connect('key_press_event', toggle_rect_selector)\n",
    "plt.show()"
   ]
  },
  {
   "cell_type": "code",
   "execution_count": 6,
   "metadata": {
    "code_folding": [
     0
    ]
   },
   "outputs": [
    {
     "name": "stdout",
     "output_type": "stream",
     "text": [
      "Up-left:  1922 , 2358\n",
      "Bottom-right:  4220 , 3825\n"
     ]
    }
   ],
   "source": [
    "# Print up-left & bottom-right corners of area of interest\n",
    "\n",
    "selected_area_corners = toggle_rect_selector.RS.corners\n",
    "ul_x, ul_y = np.round([selected_area_corners[0][0], selected_area_corners[1][1]])\n",
    "br_x, br_y = np.round([selected_area_corners[0][2], selected_area_corners[1][2]])\n",
    "\n",
    "ul_x = ul_x.astype(int)\n",
    "ul_y = ul_y.astype(int)\n",
    "br_x = br_x.astype(int)\n",
    "br_y = br_y.astype(int)\n",
    "\n",
    "print('Up-left: ', ul_x, ',', ul_y)\n",
    "print('Bottom-right: ', br_x, ',', br_y)"
   ]
  },
  {
   "cell_type": "code",
   "execution_count": null,
   "metadata": {
    "code_folding": [
     0
    ],
    "scrolled": false
   },
   "outputs": [],
   "source": [
    "# Show IR image & Temperature image\n",
    "\n",
    "layer_temp = np.asarray(layer_IR) * 0.04 - 273.15 # this was FLIR's recommended transform for DuoProR\n",
    "\n",
    "fig, axs = plt.subplots(1, 2, figsize=(6, 6))\n",
    "fig.subplots_adjust(left=0.05, bottom=0.05, right=0.95, top=0.95, wspace=0.3)\n",
    "axs[0].set_title('Temperature (℃)')\n",
    "axs[1].set_title('RGB')\n",
    "axim0 = axs[0].imshow(layer_temp[ul_y:br_y, ul_x:br_x], cmap=plt.get_cmap(cm))\n",
    "axim1 = axs[1].imshow(layer_temp[ul_y:br_y, ul_x:br_x], cmap=plt.get_cmap(cm))\n",
    "fig.colorbar(axim0, ax=axs[0])\n",
    "mplcursors.cursor(axs[0])\n",
    "mplcursors.cursor(axs[1])\n",
    "axs[1].imshow(layer_RGB[ul_y:br_y, ul_x:br_x, :]) # Show RGB on top of IR\n",
    "\n",
    "print(\"Min temp: \", layer_temp.min(), \"℃\")\n",
    "print(\"Max temp: \", layer_temp.max(), \"℃\")"
   ]
  },
  {
   "cell_type": "code",
   "execution_count": null,
   "metadata": {
    "code_folding": [
     0
    ],
    "scrolled": false
   },
   "outputs": [],
   "source": [
    "# Calculate Vegetation Index and display\n",
    "\n",
    "# Original formula\n",
    "# DGCI = ((layer_HSV[:, :, 0] - 60) / 60 + (1 - layer_HSV[:, :, 1]) + (1 - layer_HSV[:, :, 2]/255)) / 3\n",
    "\n",
    "layer_hue = layer_hue * 360\n",
    "layer_hue = layer_hue - 60\n",
    "layer_hue[np.where(layer_hue<0)] = 0\n",
    "layer_hue[np.where(layer_hue>60)] = 60\n",
    "print(\"Adjusted hue min: \", layer_hue.min())\n",
    "print(\"Adjusted hue max: \", layer_hue.max())\n",
    "\n",
    "DGCI = (layer_hue / 60 + (1 - layer_saturation) + (1 - layer_value / 255)) / 3\n",
    "\n",
    "# Adjust value to show\n",
    "DGCI[np.where(layer_mask == 0)] = DGCI.min()\n",
    "\n",
    "fig, ax = plt.subplots(figsize=(5, 5))\n",
    "fig.subplots_adjust(left=0.05, bottom=0.05, right=0.95, top=0.95, wspace=0.3)\n",
    "plt.title('DGCI')\n",
    "axim = ax.imshow(DGCI[ul_y:br_y, ul_x:br_x], cmap=plt.get_cmap(cm))\n",
    "fig.colorbar(axim)"
   ]
  },
  {
   "cell_type": "code",
   "execution_count": 14,
   "metadata": {
    "code_folding": [
     0
    ]
   },
   "outputs": [
    {
     "name": "stdout",
     "output_type": "stream",
     "text": [
      "Here's a list of plots, please confirm (y/n)\n",
      " ['p1', 'p2', 'p3']\n",
      "\n",
      "Select vertices for p1 (press [x] to save, press [c] to continue to next plot)\n",
      "Polygon vertices saved\n",
      "[[385. 273.]\n",
      " [865. 307.]\n",
      " [970. 539.]\n",
      " [768. 715.]\n",
      " [314. 692.]] \n",
      "\n",
      "Next plot\n",
      "\n",
      "Select vertices for p2 (press [x] to save, press [c] to continue to next plot)\n",
      "Polygon vertices saved\n",
      "[[1057.  322.]\n",
      " [1378.  756.]\n",
      " [1018.  508.]] \n",
      "\n",
      "Next plot\n",
      "\n",
      "Select vertices for p3 (press [x] to save, press [c] to continue to next plot)\n",
      "Polygon vertices saved\n",
      "[[1521.  567.]\n",
      " [1623.  409.]\n",
      " [1840.  396.]\n",
      " [2009.  434.]\n",
      " [2093.  575.]\n",
      " [2101.  766.]\n",
      " [2096.  902.]\n",
      " [1989.  981.]\n",
      " [1899. 1103.]\n",
      " [1792. 1032.]\n",
      " [1840.  904.]\n",
      " [1590.  960.]\n",
      " [1557.  838.]\n",
      " [1437.  782.]] \n",
      "\n",
      "All plots're selected\n"
     ]
    }
   ],
   "source": [
    "# Set boundary for each plot\n",
    "\n",
    "print('Here\\'s a list of plots, please confirm (y/n)\\n', pns)\n",
    "# user_input = input()\n",
    "\n",
    "# if user_input != 'y':\n",
    "#     exit()\n",
    "\n",
    "plot_flag = 0\n",
    "plot_name = pns[plot_flag]\n",
    "plot_vertices = []\n",
    "max_plot_flag = len(pns)\n",
    "one_plot_vertices = None\n",
    "print('\\nSelect vertices for', plot_name, '(press [x] to save, press [c] to continue to next plot)')\n",
    "\n",
    "def onselect(vert):\n",
    "    global one_plot_vertices\n",
    "    one_plot_vertices = np.round(np.array(vert))\n",
    "\n",
    "def toggle_selector(event):\n",
    "    global plot_flag, plot_name, max_plot_flag, one_plot_vertices, cid\n",
    "#     global max_plot_flag\n",
    "    if event.key in ['X', 'x'] and toggle_selector.PS.active:\n",
    "        toggle_selector.PS.set_active(False)\n",
    "        ################max_plot_flag save point ##################\n",
    "        plot_vertices.append(one_plot_vertices)\n",
    "        print('Polygon vertices saved')\n",
    "        print(one_plot_vertices, '\\n')\n",
    "        plot_flag += 1\n",
    "        if plot_flag == max_plot_flag:\n",
    "            print('All plots\\'re selected')\n",
    "            plt.disconnect(cid)\n",
    "    if event.key in ['C', 'c'] and not toggle_selector.PS.active:\n",
    "        print('Next plot')\n",
    "        toggle_selector.PS = PolygonSelector(ax, onselect, useblit=True)\n",
    "        plot_name = pns[plot_flag]\n",
    "        print('\\nSelect vertices for', plot_name, '(press [x] to save, press [c] to continue to next plot)')\n",
    "\n",
    "\n",
    "fig, ax = plt.subplots(figsize=(10, 10))\n",
    "fig.subplots_adjust(left=0.05, bottom=0.05, right=0.95, top=0.95)\n",
    "ax.imshow(layer_RGB[ul_y:br_y, ul_x:br_x, :])\n",
    "\n",
    "\n",
    "toggle_selector.PS = PolygonSelector(ax, onselect, useblit=True)\n",
    "\n",
    "cid = plt.connect('key_press_event', toggle_selector)\n",
    "plt.show()\n"
   ]
  },
  {
   "cell_type": "code",
   "execution_count": 17,
   "metadata": {
    "code_folding": [
     0
    ]
   },
   "outputs": [
    {
     "name": "stdout",
     "output_type": "stream",
     "text": [
      "Plot 0 \n",
      " [[-92.35534137  38.92792965]\n",
      " [-92.35526389  38.92792536]\n",
      " [-92.35524694  38.92789611]\n",
      " [-92.35527955  38.92787392]\n",
      " [-92.35535283  38.92787682]] \n",
      "\n",
      "Plot 1 \n",
      " [[-92.3552329   38.92792347]\n",
      " [-92.35518108  38.92786875]\n",
      " [-92.35523919  38.92790002]] \n",
      "\n",
      "Plot 2 \n",
      " [[-92.355158    38.92789258]\n",
      " [-92.35514153  38.9279125 ]\n",
      " [-92.35510651  38.92791414]\n",
      " [-92.35507923  38.92790935]\n",
      " [-92.35506567  38.92789157]\n",
      " [-92.35506438  38.92786748]\n",
      " [-92.35506518  38.92785034]\n",
      " [-92.35508245  38.92784038]\n",
      " [-92.35509698  38.92782499]\n",
      " [-92.35511425  38.92783395]\n",
      " [-92.35510651  38.92785008]\n",
      " [-92.35514686  38.92784302]\n",
      " [-92.35515219  38.92785841]\n",
      " [-92.35517156  38.92786547]] \n",
      "\n",
      "GPS coordinates saved to stage2_sfm_saved_params\n"
     ]
    }
   ],
   "source": [
    "# Calculate & save GPS coordinates of each plot\n",
    "\n",
    "ds = gdal.Open(image_file)\n",
    "gt = ds.GetGeoTransform()\n",
    "\n",
    "plot_vertices_gps = []\n",
    "for i in range(max_plot_flag):\n",
    "    one_plot_vertices = plot_vertices[i]\n",
    "    one_plot_vertices_gps = []\n",
    "    for vertex in one_plot_vertices:\n",
    "        x = ul_x + vertex[0]\n",
    "        y = ul_y + vertex[1]\n",
    "        \n",
    "        xgeo = gt[0] + x*gt[1] + y*gt[2]\n",
    "        ygeo = gt[3] + x*gt[4] + y*gt[5]\n",
    "        one_plot_vertices_gps.append([xgeo, ygeo])\n",
    "    one_plot_vertices_gps = np.array(one_plot_vertices_gps)\n",
    "    print('Plot', i, '\\n', one_plot_vertices_gps, '\\n')\n",
    "    plot_vertices_gps.append(one_plot_vertices_gps)\n",
    "    \n",
    "\n",
    "with open(saved_params, 'wb') as f:\n",
    "    pickle.dump(plot_vertices_gps, f)\n",
    "print('GPS coordinates saved to', saved_params)"
   ]
  }
 ],
 "metadata": {
  "kernelspec": {
   "display_name": "Python 3",
   "language": "python",
   "name": "python3"
  },
  "language_info": {
   "codemirror_mode": {
    "name": "ipython",
    "version": 3
   },
   "file_extension": ".py",
   "mimetype": "text/x-python",
   "name": "python",
   "nbconvert_exporter": "python",
   "pygments_lexer": "ipython3",
   "version": "3.8.5"
  }
 },
 "nbformat": 4,
 "nbformat_minor": 4
}
