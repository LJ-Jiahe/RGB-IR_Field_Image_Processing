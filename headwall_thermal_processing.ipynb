{
 "cells": [
  {
   "cell_type": "code",
   "execution_count": 1,
   "metadata": {
    "code_folding": []
   },
   "outputs": [],
   "source": [
    "# Imports\n",
    "\n",
    "%matplotlib nbagg\n",
    "# %matplotlib osx\n",
    "\n",
    "import os\n",
    "import re\n",
    "import shutil\n",
    "import winsound\n",
    "\n",
    "from spectral import *\n",
    "import matplotlib\n",
    "import matplotlib.pyplot as plt\n",
    "from tifffile import imsave\n",
    "import numpy as np\n",
    "from tkinter.filedialog import askdirectory, askopenfilenames\n",
    "from tkinter import Tk"
   ]
  },
  {
   "cell_type": "code",
   "execution_count": 2,
   "metadata": {
    "code_folding": []
   },
   "outputs": [
    {
     "name": "stdout",
     "output_type": "stream",
     "text": [
      "File folder: D:/headwall_thermal_data/SEPERATED_BRC_FLIR_2018_08_13_18_49\n",
      "Files used: []\n",
      "0 files generated\n",
      "\n",
      "Done\n"
     ]
    }
   ],
   "source": [
    "# Extract all thermal images taken by thermal sensor mounted to headwall sensor\n",
    "\n",
    "# Tk().withdraw()\n",
    "input_folder = askdirectory(title='Load headwall thermal data')\n",
    "file_list = os.listdir(input_folder)\n",
    "regex = re.compile('raw_\\d*\\.hdr')\n",
    "filtered_file_list = [i for i in file_list if regex.search(i)]\n",
    "filtered_file_list.sort(key=lambda file_name: int(re.split('_|\\.', file_name)[1]))\n",
    "print('File folder:', input_folder)\n",
    "print('Files used:', filtered_file_list)\n",
    "\n",
    "\n",
    "output_folder = askdirectory(title='Choose output folder')\n",
    "img_flag = 0\n",
    "for file_name in filtered_file_list:\n",
    "    img_chunk = open_image(os.path.join(input_folder, file_name))\n",
    "    h, w, d = img_chunk.shape\n",
    "    for i in range(img_flag, img_flag+d):\n",
    "        layer_i = img_chunk[:, :, i-img_flag]\n",
    "        layer_i = np.squeeze(layer_i)\n",
    "        imsave(os.path.join(output_folder, str(i) + '.tiff'), layer_i)\n",
    "    img_flag += d\n",
    "print(img_flag, 'files generated')\n",
    "\n",
    "print('\\nDone')\n",
    "winsound.Beep(500, 1000)"
   ]
  },
  {
   "cell_type": "code",
   "execution_count": 5,
   "metadata": {},
   "outputs": [
    {
     "name": "stdout",
     "output_type": "stream",
     "text": [
      "\n",
      "Done\n"
     ]
    }
   ],
   "source": [
    "# Select 1 out of 10 imgs to use in Agisoft\n",
    "\n",
    "data_folder = askdirectory()\n",
    "data_list = os.listdir(data_folder)\n",
    "for i in range(0, len(data_list), 5):\n",
    "    shutil.copy(os.path.join(data_folder, str(i)+'.tiff'), os.path.join(data_folder+' - 20%', str(i)+'.tiff'))\n",
    "    \n",
    "print('\\nDone')\n",
    "winsound.Beep(500, 2000)"
   ]
  },
  {
   "cell_type": "code",
   "execution_count": null,
   "metadata": {},
   "outputs": [],
   "source": []
  }
 ],
 "metadata": {
  "kernelspec": {
   "display_name": "Python 3",
   "language": "python",
   "name": "python3"
  },
  "language_info": {
   "codemirror_mode": {
    "name": "ipython",
    "version": 3
   },
   "file_extension": ".py",
   "mimetype": "text/x-python",
   "name": "python",
   "nbconvert_exporter": "python",
   "pygments_lexer": "ipython3",
   "version": "3.8.5"
  }
 },
 "nbformat": 4,
 "nbformat_minor": 4
}
