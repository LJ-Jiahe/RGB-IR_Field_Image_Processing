{
 "cells": [
  {
   "cell_type": "code",
   "execution_count": null,
   "metadata": {
    "code_folding": [
     0
    ]
   },
   "outputs": [],
   "source": [
    "# Imports\n",
    "\n",
    "%matplotlib nbagg\n",
    "# %matplotlib osx\n",
    "\n",
    "import os\n",
    "import re\n",
    "import shutil\n",
    "\n",
    "import spectral\n",
    "import matplotlib\n",
    "import matplotlib.pyplot as plt\n",
    "from tifffile import imsave\n",
    "import numpy as np\n",
    "from tkinter.filedialog import askdirectory, askopenfilenames\n",
    "from tkinter import Tk\n",
    "\n",
    "import general_funcs"
   ]
  },
  {
   "cell_type": "code",
   "execution_count": null,
   "metadata": {
    "code_folding": []
   },
   "outputs": [],
   "source": [
    "# Extract all thermal images taken by thermal sensor mounted to headwall sensor\n",
    "\n",
    "# Tk().withdraw()\n",
    "input_folder = askdirectory(title='Select headwall thermal data folder')\n",
    "file_list = os.listdir(input_folder)\n",
    "regex = re.compile('raw_\\d*\\.hdr')\n",
    "filtered_file_list = [i for i in file_list if regex.search(i)]\n",
    "filtered_file_list.sort(key=lambda file_name: int(re.split('_|\\.', file_name)[1]))\n",
    "print('File folder:', input_folder)\n",
    "print('Files used:', filtered_file_list)"
   ]
  },
  {
   "cell_type": "code",
   "execution_count": null,
   "metadata": {
    "code_folding": []
   },
   "outputs": [],
   "source": [
    "# Extract thermal images from data cubea\n",
    "output_folder = askdirectory(title='Choose output folder')\n",
    "img_flag = 0\n",
    "for file_name in filtered_file_list:\n",
    "    img_chunk = spectral.open_image(os.path.join(input_folder, file_name))\n",
    "    h, w, d = img_chunk.shape\n",
    "    for i in range(img_flag, img_flag+d):\n",
    "        layer_i = img_chunk[:, :, i-img_flag]\n",
    "        layer_i = np.squeeze(layer_i)\n",
    "        imsave(os.path.join(output_folder, str(i) + '.tiff'), layer_i)\n",
    "    img_flag += d\n",
    "print(img_flag, 'files generated')\n",
    "\n",
    "# Use one out of N imgs from all data\n",
    "N = 5\n",
    "percentage_str = str(\"{:.0%}\".format(1/N))\n",
    "output_folder_partial = output_folder+' - '+percentage_str\n",
    "if not os.path.exists(output_folder_partial):\n",
    "    os.mkdir(output_folder_partial)\n",
    "\n",
    "data_list = os.listdir(output_folder)\n",
    "for i in range(0, len(data_list), N):\n",
    "    shutil.copy(os.path.join(output_folder, str(i)+'.tiff'), os.path.join(output_folder_partial, str(i)+'.tiff'))\n",
    "    \n",
    "# general_funcs.done()"
   ]
  },
  {
   "cell_type": "code",
   "execution_count": null,
   "metadata": {
    "code_folding": []
   },
   "outputs": [],
   "source": [
    "# Playground\n",
    "img_flag = 0\n",
    "for file_name in filtered_file_list:\n",
    "    img_chunk = spectral.open_image(os.path.join(input_folder, file_name))\n",
    "    h, w, d = img_chunk.shape\n",
    "    i_c = img_chunk.asarray()\n",
    "    print(file_name)\n",
    "    print('Size:', h, w, d)\n",
    "    print('Average:', i_c.mean())\n",
    "    print('Min:', i_c.min())\n",
    "    print('Max:', i_c.max())\n",
    "    print('Variance:', i_c.var())\n",
    "    print()\n",
    "    "
   ]
  },
  {
   "cell_type": "code",
   "execution_count": null,
   "metadata": {
    "scrolled": false
   },
   "outputs": [],
   "source": [
    "# Playground 2\n",
    "\n",
    "# Import packages needed\n",
    "import gc\n",
    "from math import cos, sin, radians\n",
    "import pickle\n",
    "import platform\n",
    "from tkinter import Tk, simpledialog, messagebox\n",
    "from tkinter.filedialog import askopenfilename, asksaveasfilename\n",
    "\n",
    "from ipywidgets import widgets\n",
    "from math import atan, degrees\n",
    "import matplotlib\n",
    "from matplotlib.lines import Line2D\n",
    "import matplotlib.pyplot as plt\n",
    "import matplotlib.patches as patches\n",
    "from matplotlib.widgets import RectangleSelector, PolygonSelector\n",
    "from matplotlib.ticker import AutoMinorLocator, MultipleLocator\n",
    "import numpy as np\n",
    "from osgeo import gdal\n",
    "import pandas as pd\n",
    "from scipy import ndimage\n",
    "from skimage import io\n",
    "\n",
    "import general_funcs\n",
    "\n",
    "\n",
    "input_folder = askdirectory(title='Select headwall thermal data folder')\n",
    "file_list = os.listdir(input_folder)\n",
    "# print(file_list)\n",
    "\n",
    "for i in range(100):\n",
    "    img = io.imread(os.path.join(input_folder, file_list[i*10]))\n",
    "    print('Image', i*10)\n",
    "    print(img.shape)\n",
    "    print('Average', np.mean(img))"
   ]
  }
 ],
 "metadata": {
  "kernelspec": {
   "display_name": "Python 3",
   "language": "python",
   "name": "python3"
  },
  "language_info": {
   "codemirror_mode": {
    "name": "ipython",
    "version": 3
   },
   "file_extension": ".py",
   "mimetype": "text/x-python",
   "name": "python",
   "nbconvert_exporter": "python",
   "pygments_lexer": "ipython3",
   "version": "3.9.1"
  }
 },
 "nbformat": 4,
 "nbformat_minor": 4
}
