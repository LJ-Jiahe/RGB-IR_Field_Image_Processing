{
 "cells": [
  {
   "cell_type": "code",
   "execution_count": 3,
   "metadata": {
    "code_folding": []
   },
   "outputs": [],
   "source": [
    "# Imports\n",
    "\n",
    "%matplotlib nbagg\n",
    "# %matplotlib osx\n",
    "\n",
    "import os\n",
    "import re\n",
    "import shutil\n",
    "\n",
    "import matplotlib\n",
    "import matplotlib.pyplot as plt\n",
    "from tifffile import imsave\n",
    "import numpy as np\n",
    "from tkinter.filedialog import askdirectory, askopenfilenames\n",
    "from tkinter import Tk\n",
    "\n",
    "import general_funcs"
   ]
  },
  {
   "cell_type": "code",
   "execution_count": 4,
   "metadata": {
    "code_folding": []
   },
   "outputs": [
    {
     "ename": "FileNotFoundError",
     "evalue": "[Errno 2] No such file or directory: ''",
     "output_type": "error",
     "traceback": [
      "\u001b[0;31m---------------------------------------------------------------------------\u001b[0m",
      "\u001b[0;31mFileNotFoundError\u001b[0m                         Traceback (most recent call last)",
      "\u001b[0;32m<ipython-input-4-c61588359194>\u001b[0m in \u001b[0;36m<module>\u001b[0;34m\u001b[0m\n\u001b[1;32m      3\u001b[0m \u001b[0;31m# Tk().withdraw()\u001b[0m\u001b[0;34m\u001b[0m\u001b[0;34m\u001b[0m\u001b[0;34m\u001b[0m\u001b[0m\n\u001b[1;32m      4\u001b[0m \u001b[0minput_folder\u001b[0m \u001b[0;34m=\u001b[0m \u001b[0maskdirectory\u001b[0m\u001b[0;34m(\u001b[0m\u001b[0mtitle\u001b[0m\u001b[0;34m=\u001b[0m\u001b[0;34m'Load headwall thermal data'\u001b[0m\u001b[0;34m)\u001b[0m\u001b[0;34m\u001b[0m\u001b[0;34m\u001b[0m\u001b[0m\n\u001b[0;32m----> 5\u001b[0;31m \u001b[0mfile_list\u001b[0m \u001b[0;34m=\u001b[0m \u001b[0mos\u001b[0m\u001b[0;34m.\u001b[0m\u001b[0mlistdir\u001b[0m\u001b[0;34m(\u001b[0m\u001b[0minput_folder\u001b[0m\u001b[0;34m)\u001b[0m\u001b[0;34m\u001b[0m\u001b[0;34m\u001b[0m\u001b[0m\n\u001b[0m\u001b[1;32m      6\u001b[0m \u001b[0mregex\u001b[0m \u001b[0;34m=\u001b[0m \u001b[0mre\u001b[0m\u001b[0;34m.\u001b[0m\u001b[0mcompile\u001b[0m\u001b[0;34m(\u001b[0m\u001b[0;34m'raw_\\d*\\.hdr'\u001b[0m\u001b[0;34m)\u001b[0m\u001b[0;34m\u001b[0m\u001b[0;34m\u001b[0m\u001b[0m\n\u001b[1;32m      7\u001b[0m \u001b[0mfiltered_file_list\u001b[0m \u001b[0;34m=\u001b[0m \u001b[0;34m[\u001b[0m\u001b[0mi\u001b[0m \u001b[0;32mfor\u001b[0m \u001b[0mi\u001b[0m \u001b[0;32min\u001b[0m \u001b[0mfile_list\u001b[0m \u001b[0;32mif\u001b[0m \u001b[0mregex\u001b[0m\u001b[0;34m.\u001b[0m\u001b[0msearch\u001b[0m\u001b[0;34m(\u001b[0m\u001b[0mi\u001b[0m\u001b[0;34m)\u001b[0m\u001b[0;34m]\u001b[0m\u001b[0;34m\u001b[0m\u001b[0;34m\u001b[0m\u001b[0m\n",
      "\u001b[0;31mFileNotFoundError\u001b[0m: [Errno 2] No such file or directory: ''"
     ]
    }
   ],
   "source": [
    "# Extract all thermal images taken by thermal sensor mounted to headwall sensor\n",
    "\n",
    "# Tk().withdraw()\n",
    "input_folder = askdirectory(title='Select headwall thermal data folder')\n",
    "file_list = os.listdir(input_folder)\n",
    "regex = re.compile('raw_\\d*\\.hdr')\n",
    "filtered_file_list = [i for i in file_list if regex.search(i)]\n",
    "filtered_file_list.sort(key=lambda file_name: int(re.split('_|\\.', file_name)[1]))\n",
    "print('File folder:', input_folder)\n",
    "print('Files used:', filtered_file_list)\n",
    "\n",
    "\n",
    "output_folder = askdirectory(title='Choose output folder')\n",
    "img_flag = 0\n",
    "for file_name in filtered_file_list:\n",
    "    img_chunk = open_image(os.path.join(input_folder, file_name))\n",
    "    h, w, d = img_chunk.shape\n",
    "    for i in range(img_flag, img_flag+d):\n",
    "        layer_i = img_chunk[:, :, i-img_flag]\n",
    "        layer_i = np.squeeze(layer_i)\n",
    "        imsave(os.path.join(output_folder, str(i) + '.tiff'), layer_i)\n",
    "    img_flag += d\n",
    "print(img_flag, 'files generated')\n",
    "\n",
    "# Use one out of N imgs from all data\n",
    "N = 5\n",
    "\n",
    "data_list = os.listdir(output_folder)\n",
    "for i in range(0, len(data_list), N):\n",
    "    shutil.copy(os.path.join(data_folder, str(i)+'.tiff'), os.path.join(output_folder+' - '+str(\":.0%\".format(1/N), str(i)+'.tiff'))\n",
    "    \n",
    "general_funcs.done()"
   ]
  }
 ],
 "metadata": {
  "kernelspec": {
   "display_name": "Python 3",
   "language": "python",
   "name": "python3"
  },
  "language_info": {
   "codemirror_mode": {
    "name": "ipython",
    "version": 3
   },
   "file_extension": ".py",
   "mimetype": "text/x-python",
   "name": "python",
   "nbconvert_exporter": "python",
   "pygments_lexer": "ipython3",
   "version": "3.8.5"
  }
 },
 "nbformat": 4,
 "nbformat_minor": 4
}
