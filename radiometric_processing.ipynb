{
 "cells": [
  {
   "cell_type": "code",
   "execution_count": 85,
   "metadata": {
    "code_folding": []
   },
   "outputs": [
    {
     "ename": "FileNotFoundError",
     "evalue": "[Errno 2] No such file or directory: 'exiftool.exe'",
     "output_type": "error",
     "traceback": [
      "\u001b[0;31m---------------------------------------------------------------------------\u001b[0m",
      "\u001b[0;31mFileNotFoundError\u001b[0m                         Traceback (most recent call last)",
      "\u001b[0;32m<ipython-input-85-cb43271c8692>\u001b[0m in \u001b[0;36m<module>\u001b[0;34m\u001b[0m\n\u001b[1;32m     30\u001b[0m \u001b[0mfir\u001b[0m \u001b[0;34m=\u001b[0m \u001b[0mflirimageextractor\u001b[0m\u001b[0;34m.\u001b[0m\u001b[0mFlirImageExtractor\u001b[0m\u001b[0;34m(\u001b[0m\u001b[0mexiftool_path\u001b[0m\u001b[0;34m=\u001b[0m\u001b[0;34m\"exiftool.exe\"\u001b[0m\u001b[0;34m)\u001b[0m\u001b[0;34m\u001b[0m\u001b[0;34m\u001b[0m\u001b[0m\n\u001b[1;32m     31\u001b[0m \u001b[0;32mfor\u001b[0m \u001b[0mimage_file\u001b[0m \u001b[0;32min\u001b[0m \u001b[0mimage_list\u001b[0m\u001b[0;34m:\u001b[0m\u001b[0;34m\u001b[0m\u001b[0;34m\u001b[0m\u001b[0m\n\u001b[0;32m---> 32\u001b[0;31m     \u001b[0mfir\u001b[0m\u001b[0;34m.\u001b[0m\u001b[0mprocess_image\u001b[0m\u001b[0;34m(\u001b[0m\u001b[0mos\u001b[0m\u001b[0;34m.\u001b[0m\u001b[0mpath\u001b[0m\u001b[0;34m.\u001b[0m\u001b[0mjoin\u001b[0m\u001b[0;34m(\u001b[0m\u001b[0mimage_folder\u001b[0m\u001b[0;34m,\u001b[0m \u001b[0mimage_file\u001b[0m\u001b[0;34m)\u001b[0m\u001b[0;34m)\u001b[0m\u001b[0;34m\u001b[0m\u001b[0;34m\u001b[0m\u001b[0m\n\u001b[0m\u001b[1;32m     33\u001b[0m     \u001b[0mimg_rgb\u001b[0m \u001b[0;34m=\u001b[0m \u001b[0mfir\u001b[0m\u001b[0;34m.\u001b[0m\u001b[0mextract_embedded_image\u001b[0m\u001b[0;34m(\u001b[0m\u001b[0;34m)\u001b[0m\u001b[0;34m\u001b[0m\u001b[0;34m\u001b[0m\u001b[0m\n\u001b[1;32m     34\u001b[0m     \u001b[0mimg_ir\u001b[0m \u001b[0;34m=\u001b[0m \u001b[0mfir\u001b[0m\u001b[0;34m.\u001b[0m\u001b[0mextract_thermal_image\u001b[0m\u001b[0;34m(\u001b[0m\u001b[0;34m)\u001b[0m\u001b[0;34m\u001b[0m\u001b[0;34m\u001b[0m\u001b[0m\n",
      "\u001b[0;32m~/opt/miniconda3/envs/hyperspect/lib/python3.8/site-packages/flirimageextractor/flirimageextractor.py\u001b[0m in \u001b[0;36mprocess_image\u001b[0;34m(self, flir_img_file, RGB)\u001b[0m\n\u001b[1;32m     99\u001b[0m \u001b[0;34m\u001b[0m\u001b[0m\n\u001b[1;32m    100\u001b[0m         \u001b[0;31m# if its a TIFF different settings are required\u001b[0m\u001b[0;34m\u001b[0m\u001b[0;34m\u001b[0m\u001b[0;34m\u001b[0m\u001b[0m\n\u001b[0;32m--> 101\u001b[0;31m         \u001b[0;32mif\u001b[0m \u001b[0mself\u001b[0m\u001b[0;34m.\u001b[0m\u001b[0mget_image_type\u001b[0m\u001b[0;34m(\u001b[0m\u001b[0;34m)\u001b[0m\u001b[0;34m.\u001b[0m\u001b[0mupper\u001b[0m\u001b[0;34m(\u001b[0m\u001b[0;34m)\u001b[0m\u001b[0;34m.\u001b[0m\u001b[0mstrip\u001b[0m\u001b[0;34m(\u001b[0m\u001b[0;34m)\u001b[0m \u001b[0;34m==\u001b[0m \u001b[0;34m\"TIFF\"\u001b[0m\u001b[0;34m:\u001b[0m\u001b[0;34m\u001b[0m\u001b[0;34m\u001b[0m\u001b[0m\n\u001b[0m\u001b[1;32m    102\u001b[0m             \u001b[0;31m# valid for tiff images from Zenmuse XTR\u001b[0m\u001b[0;34m\u001b[0m\u001b[0;34m\u001b[0m\u001b[0;34m\u001b[0m\u001b[0m\n\u001b[1;32m    103\u001b[0m             \u001b[0mself\u001b[0m\u001b[0;34m.\u001b[0m\u001b[0muse_thumbnail\u001b[0m \u001b[0;34m=\u001b[0m \u001b[0;32mTrue\u001b[0m\u001b[0;34m\u001b[0m\u001b[0;34m\u001b[0m\u001b[0m\n",
      "\u001b[0;32m~/opt/miniconda3/envs/hyperspect/lib/python3.8/site-packages/flirimageextractor/flirimageextractor.py\u001b[0m in \u001b[0;36mget_image_type\u001b[0;34m(self)\u001b[0m\n\u001b[1;32m    117\u001b[0m         \"\"\"\n\u001b[1;32m    118\u001b[0m         \u001b[0;32mif\u001b[0m \u001b[0mself\u001b[0m\u001b[0;34m.\u001b[0m\u001b[0mflir_img_filename\u001b[0m\u001b[0;34m:\u001b[0m\u001b[0;34m\u001b[0m\u001b[0;34m\u001b[0m\u001b[0m\n\u001b[0;32m--> 119\u001b[0;31m             meta_json = subprocess.check_output(\n\u001b[0m\u001b[1;32m    120\u001b[0m                 [\n\u001b[1;32m    121\u001b[0m                     \u001b[0mself\u001b[0m\u001b[0;34m.\u001b[0m\u001b[0mexiftool_path\u001b[0m\u001b[0;34m,\u001b[0m\u001b[0;34m\u001b[0m\u001b[0;34m\u001b[0m\u001b[0m\n",
      "\u001b[0;32m~/opt/miniconda3/envs/hyperspect/lib/python3.8/subprocess.py\u001b[0m in \u001b[0;36mcheck_output\u001b[0;34m(timeout, *popenargs, **kwargs)\u001b[0m\n\u001b[1;32m    409\u001b[0m         \u001b[0mkwargs\u001b[0m\u001b[0;34m[\u001b[0m\u001b[0;34m'input'\u001b[0m\u001b[0;34m]\u001b[0m \u001b[0;34m=\u001b[0m \u001b[0;34m''\u001b[0m \u001b[0;32mif\u001b[0m \u001b[0mkwargs\u001b[0m\u001b[0;34m.\u001b[0m\u001b[0mget\u001b[0m\u001b[0;34m(\u001b[0m\u001b[0;34m'universal_newlines'\u001b[0m\u001b[0;34m,\u001b[0m \u001b[0;32mFalse\u001b[0m\u001b[0;34m)\u001b[0m \u001b[0;32melse\u001b[0m \u001b[0;34mb''\u001b[0m\u001b[0;34m\u001b[0m\u001b[0;34m\u001b[0m\u001b[0m\n\u001b[1;32m    410\u001b[0m \u001b[0;34m\u001b[0m\u001b[0m\n\u001b[0;32m--> 411\u001b[0;31m     return run(*popenargs, stdout=PIPE, timeout=timeout, check=True,\n\u001b[0m\u001b[1;32m    412\u001b[0m                **kwargs).stdout\n\u001b[1;32m    413\u001b[0m \u001b[0;34m\u001b[0m\u001b[0m\n",
      "\u001b[0;32m~/opt/miniconda3/envs/hyperspect/lib/python3.8/subprocess.py\u001b[0m in \u001b[0;36mrun\u001b[0;34m(input, capture_output, timeout, check, *popenargs, **kwargs)\u001b[0m\n\u001b[1;32m    487\u001b[0m         \u001b[0mkwargs\u001b[0m\u001b[0;34m[\u001b[0m\u001b[0;34m'stderr'\u001b[0m\u001b[0;34m]\u001b[0m \u001b[0;34m=\u001b[0m \u001b[0mPIPE\u001b[0m\u001b[0;34m\u001b[0m\u001b[0;34m\u001b[0m\u001b[0m\n\u001b[1;32m    488\u001b[0m \u001b[0;34m\u001b[0m\u001b[0m\n\u001b[0;32m--> 489\u001b[0;31m     \u001b[0;32mwith\u001b[0m \u001b[0mPopen\u001b[0m\u001b[0;34m(\u001b[0m\u001b[0;34m*\u001b[0m\u001b[0mpopenargs\u001b[0m\u001b[0;34m,\u001b[0m \u001b[0;34m**\u001b[0m\u001b[0mkwargs\u001b[0m\u001b[0;34m)\u001b[0m \u001b[0;32mas\u001b[0m \u001b[0mprocess\u001b[0m\u001b[0;34m:\u001b[0m\u001b[0;34m\u001b[0m\u001b[0;34m\u001b[0m\u001b[0m\n\u001b[0m\u001b[1;32m    490\u001b[0m         \u001b[0;32mtry\u001b[0m\u001b[0;34m:\u001b[0m\u001b[0;34m\u001b[0m\u001b[0;34m\u001b[0m\u001b[0m\n\u001b[1;32m    491\u001b[0m             \u001b[0mstdout\u001b[0m\u001b[0;34m,\u001b[0m \u001b[0mstderr\u001b[0m \u001b[0;34m=\u001b[0m \u001b[0mprocess\u001b[0m\u001b[0;34m.\u001b[0m\u001b[0mcommunicate\u001b[0m\u001b[0;34m(\u001b[0m\u001b[0minput\u001b[0m\u001b[0;34m,\u001b[0m \u001b[0mtimeout\u001b[0m\u001b[0;34m=\u001b[0m\u001b[0mtimeout\u001b[0m\u001b[0;34m)\u001b[0m\u001b[0;34m\u001b[0m\u001b[0;34m\u001b[0m\u001b[0m\n",
      "\u001b[0;32m~/opt/miniconda3/envs/hyperspect/lib/python3.8/subprocess.py\u001b[0m in \u001b[0;36m__init__\u001b[0;34m(self, args, bufsize, executable, stdin, stdout, stderr, preexec_fn, close_fds, shell, cwd, env, universal_newlines, startupinfo, creationflags, restore_signals, start_new_session, pass_fds, encoding, errors, text)\u001b[0m\n\u001b[1;32m    852\u001b[0m                             encoding=encoding, errors=errors)\n\u001b[1;32m    853\u001b[0m \u001b[0;34m\u001b[0m\u001b[0m\n\u001b[0;32m--> 854\u001b[0;31m             self._execute_child(args, executable, preexec_fn, close_fds,\n\u001b[0m\u001b[1;32m    855\u001b[0m                                 \u001b[0mpass_fds\u001b[0m\u001b[0;34m,\u001b[0m \u001b[0mcwd\u001b[0m\u001b[0;34m,\u001b[0m \u001b[0menv\u001b[0m\u001b[0;34m,\u001b[0m\u001b[0;34m\u001b[0m\u001b[0;34m\u001b[0m\u001b[0m\n\u001b[1;32m    856\u001b[0m                                 \u001b[0mstartupinfo\u001b[0m\u001b[0;34m,\u001b[0m \u001b[0mcreationflags\u001b[0m\u001b[0;34m,\u001b[0m \u001b[0mshell\u001b[0m\u001b[0;34m,\u001b[0m\u001b[0;34m\u001b[0m\u001b[0;34m\u001b[0m\u001b[0m\n",
      "\u001b[0;32m~/opt/miniconda3/envs/hyperspect/lib/python3.8/subprocess.py\u001b[0m in \u001b[0;36m_execute_child\u001b[0;34m(self, args, executable, preexec_fn, close_fds, pass_fds, cwd, env, startupinfo, creationflags, shell, p2cread, p2cwrite, c2pread, c2pwrite, errread, errwrite, restore_signals, start_new_session)\u001b[0m\n\u001b[1;32m   1700\u001b[0m                     \u001b[0;32mif\u001b[0m \u001b[0merrno_num\u001b[0m \u001b[0;34m!=\u001b[0m \u001b[0;36m0\u001b[0m\u001b[0;34m:\u001b[0m\u001b[0;34m\u001b[0m\u001b[0;34m\u001b[0m\u001b[0m\n\u001b[1;32m   1701\u001b[0m                         \u001b[0merr_msg\u001b[0m \u001b[0;34m=\u001b[0m \u001b[0mos\u001b[0m\u001b[0;34m.\u001b[0m\u001b[0mstrerror\u001b[0m\u001b[0;34m(\u001b[0m\u001b[0merrno_num\u001b[0m\u001b[0;34m)\u001b[0m\u001b[0;34m\u001b[0m\u001b[0;34m\u001b[0m\u001b[0m\n\u001b[0;32m-> 1702\u001b[0;31m                     \u001b[0;32mraise\u001b[0m \u001b[0mchild_exception_type\u001b[0m\u001b[0;34m(\u001b[0m\u001b[0merrno_num\u001b[0m\u001b[0;34m,\u001b[0m \u001b[0merr_msg\u001b[0m\u001b[0;34m,\u001b[0m \u001b[0merr_filename\u001b[0m\u001b[0;34m)\u001b[0m\u001b[0;34m\u001b[0m\u001b[0;34m\u001b[0m\u001b[0m\n\u001b[0m\u001b[1;32m   1703\u001b[0m                 \u001b[0;32mraise\u001b[0m \u001b[0mchild_exception_type\u001b[0m\u001b[0;34m(\u001b[0m\u001b[0merr_msg\u001b[0m\u001b[0;34m)\u001b[0m\u001b[0;34m\u001b[0m\u001b[0;34m\u001b[0m\u001b[0m\n\u001b[1;32m   1704\u001b[0m \u001b[0;34m\u001b[0m\u001b[0m\n",
      "\u001b[0;31mFileNotFoundError\u001b[0m: [Errno 2] No such file or directory: 'exiftool.exe'"
     ]
    }
   ],
   "source": [
    "%matplotlib nbagg\n",
    "# %matplotlib osx\n",
    "\n",
    "import os\n",
    "import shutil\n",
    "from tkinter import Tk\n",
    "from tkinter.filedialog import askopenfilename, asksaveasfilename, askdirectory\n",
    "# import winsound\n",
    "\n",
    "import numpy as np\n",
    "import matplotlib\n",
    "from matplotlib import pyplot as plt\n",
    "from skimage import io\n",
    "from tkinter.filedialog import askdirectory\n",
    "import cv2\n",
    "import flirimageextractor\n",
    "from PIL import Image\n",
    "import piexif\n",
    "\n",
    "\n",
    "Tk().withdraw()\n",
    "image_folder = askdirectory(title='Load image folder', initialdir='./radiometric_data')\n",
    "image_list = os.listdir(image_folder)\n",
    "image_list = [elem for elem in image_list if elem.endswith('.JPG')]\n",
    "output_folder_RGB = askdirectory(title='Choose output folder for RGB images', initialdir='./radiometric_data')\n",
    "output_folder_IR = askdirectory(title='Choose output folder for IR images', initialdir='./radiometric_data')\n",
    "\n",
    "\n",
    "fir = flirimageextractor.FlirImageExtractor()\n",
    "fir = flirimageextractor.FlirImageExtractor(exiftool_path=\"exiftool.exe\")\n",
    "for image_file in image_list:\n",
    "    fir.process_image(os.path.join(image_folder, image_file))\n",
    "    img_rgb = fir.extract_embedded_image()\n",
    "    img_ir = fir.extract_thermal_image()\n",
    "    metadata = fir.get_metadata(os.path.join(image_folder, image_file))\n",
    "    exif_bytes = piexif.dump(metadata)\n",
    "    \n",
    "    pil_rgb = Image.fromarray(img_rgb)\n",
    "    pil_ir = Image.fromarray(img_ir)\n",
    "    file_name = os.path.join(output_folder_RGB, image_file.split('.')[0]+'.jpg')\n",
    "    pil_rgb.save(file_name)\n",
    "    jpeg.setExif(metadata, file_name)\n",
    "#     pil_ir.save(os.path.join(output_folder_IR,image_file.split('.')[0]+'.tiff'), exif=exif_bytes)\n",
    "\n",
    "\n",
    "\n",
    "fir.get_metadata(os.path.join(image_folder, image_list[0]))\n",
    "\n",
    "from osgeo import gdal\n",
    "\n",
    "ds = gdal.Open(os.path.join(image_folder, image_list[0]))\n",
    "gt = ds.GetGeoTransform()\n",
    "for i in range(1, 10):\n",
    "    print(ds.GetRasterBand(i).ReadAsArray().shape)"
   ]
  },
  {
   "cell_type": "code",
   "execution_count": 71,
   "metadata": {},
   "outputs": [
    {
     "name": "stdout",
     "output_type": "stream",
     "text": [
      "{'0th': {271: b'FLIR', 272: b'Duo Pro R\\x00\\x00\\x00\\x00\\x00\\x00\\x00\\x00\\x00\\x00\\x00\\x00\\x00\\x00\\x00\\x00\\x00\\x00\\x00\\x00\\x00\\x00', 282: (72, 1), 283: (72, 1), 296: 2, 305: b'V01.02.05\\x00\\x00\\x00\\x00\\x00\\x00', 531: 1, 34665: 284, 34853: 1874}, 'Exif': {36864: b'0210', 37121: b'\\x01\\x02\\x03\\x00', 37396: (320, 256, 640, 512), 40960: b'0100', 40961: 1, 40962: 640, 40963: 512}, 'GPS': {0: (3, 2, 0, 0), 1: b'N', 2: ((38, 1), (53, 1), (285571296, 10000000)), 3: b'W', 4: ((92, 1), (12, 1), (527233888, 10000000)), 5: 0, 6: (298590, 1000), 7: ((14, 1), (2, 1), (33, 1)), 12: b'K', 13: (19871, 1000), 14: b'T', 15: (1109, 100)}, 'Interop': {}, '1st': {259: 6, 274: 1, 282: (72, 1), 283: (72, 1), 296: 2}, 'thumbnail': None}\n",
      "\n",
      "b'Exif\\x00\\x00II*\\x00\\x08\\x00\\x00\\x00\\x0e\\x00\\x0f\\x01\\x02\\x00\\x05\\x00\\x00\\x00\\xc6\\x00\\x00\\x00\\x10\\x01\\x02\\x00 \\x00\\x00\\x00\\xcc\\x00\\x00\\x00\\x1a\\x01\\x05\\x00\\x01\\x00\\x00\\x00\\xb6\\x00\\x00\\x00\\x1b\\x01\\x05\\x00\\x01\\x00\\x00\\x00\\xbe\\x00\\x00\\x00(\\x01\\x03\\x00\\x01\\x00\\x00\\x00\\x02\\x00\\x00\\x001\\x01\\x02\\x00\\x10\\x00\\x00\\x00\\xec\\x00\\x00\\x00\\x13\\x02\\x03\\x00\\x01\\x00\\x00\\x00\\x01\\x00\\x00\\x00\\x9d\\x82\\x05\\x00\\x01\\x00\\x00\\x00\\xfc\\x00\\x00\\x00i\\x87\\x04\\x00\\x01\\x00\\x00\\x00\\x1c\\x01\\x00\\x00%\\x88\\x04\\x00\\x01\\x00\\x00\\x00R\\x07\\x00\\x00\\n\\x92\\x05\\x00\\x01\\x00\\x00\\x00\\x04\\x01\\x00\\x00\\x0e\\xa2\\x05\\x00\\x01\\x00\\x00\\x00\\x0c\\x01\\x00\\x00\\x0f\\xa2\\x05\\x00\\x01\\x00\\x00\\x00\\x14\\x01\\x00\\x00\\x10\\xa2\\x03\\x00\\x01\\x00\\x00\\x00\\x04\\x00\\x00\\x00H\\x08\\x00\\x00H\\x00\\x00\\x00\\x01\\x00\\x00\\x00H\\x00\\x00\\x00\\x01\\x00\\x00\\x00FLIR\\x00\\x00Duo Pro R\\x00\\x00\\x00\\x00\\x00\\x00\\x00\\x00\\x00\\x00\\x00\\x00\\x00\\x00\\x00\\x00\\x00\\x00\\x00\\x00\\x00\\x00\\x00V01.02.05\\x00\\x00\\x00\\x00\\x00\\x00\\x00\\xe2\\x04\\x00\\x00\\xe8\\x03\\x00\\x00\\xa8a\\x00\\x00\\xe8\\x03\\x00\\x00\\x80*\\x00\\x00\\xe8\\x03\\x00\\x00\\x00\"\\x00\\x00\\xe8\\x03\\x00\\x00\\x08\\x00\\xbc\\x02\\x07\\x00\\xc7\\x05\\x00\\x00\\x8a\\x01\\x00\\x00\\x00\\x90\\x07\\x00\\x04\\x00\\x00\\x000210\\x01\\x91\\x07\\x00\\x04\\x00\\x00\\x00\\x01\\x02\\x03\\x00\\x14\\x92\\x03\\x00\\x04\\x00\\x00\\x00\\x82\\x01\\x00\\x00\\x00\\xa0\\x07\\x00\\x04\\x00\\x00\\x000100\\x01\\xa0\\x03\\x00\\x01\\x00\\x00\\x00\\x01\\x00\\x00\\x00\\x02\\xa0\\x04\\x00\\x01\\x00\\x00\\x00\\x80\\x02\\x00\\x00\\x03\\xa0\\x04\\x00\\x01\\x00\\x00\\x00\\x00\\x02\\x00\\x00\\x00\\x00\\x00\\x00@\\x01\\x00\\x01\\x80\\x02\\x00\\x02<?xpacket begin=\"\" id=\"W5M0MpCehiHzreSzNTczkc9d\"?>\\r\\n<rdf:RDF xmlns:rdf=\"http://www.w3.org/1999/02/22-rdf-syntax-ns#\"\\r\\nxmlns:Camera=\"http://pix4d.com/camera/1.0/\"\\r\\nxmlns:FLIR=\"http://ns.flir.com/xmp/1.0/\">\\r\\n<rdf:Description rdf:about=\"\">\\r\\n<Camera:BandName>\\r\\n<rdf:Seq>\\r\\n<rdf:li>LWIR</rdf:li>\\r\\n</rdf:Seq>\\r\\n</Camera:BandName>\\r\\n<Camera:CentralWavelength>\\r\\n<rdf:Seq>\\r\\n<rdf:li>10000</rdf:li>\\r\\n</rdf:Seq>\\r\\n</Camera:CentralWavelength>\\r\\n<Camera:WavelengthFWHM>\\r\\n<rdf:Seq>\\r\\n<rdf:li>4500</rdf:li>\\r\\n</rdf:Seq>\\r\\n</Camera:WavelengthFWHM>\\r\\n<Camera:TlinearGain>0.00</Camera:TlinearGain>\\r\\n<Camera:Yaw>9838/100</Camera:Yaw>\\r\\n<Camera:Pitch>-8474/100</Camera:Pitch>\\r\\n<Camera:Roll>-10378/100</Camera:Roll>\\r\\n<Camera:GPSXYAccuracy>1.18</Camera:GPSXYAccuracy>\\r\\n<Camera:GPSZAccuracy>1.55</Camera:GPSZAccuracy>\\r\\n<Camera:GyroRate>6.22</Camera:GyroRate>\\r\\n<Camera:DetectorBitDepth>16</Camera:DetectorBitDepth>\\r\\n<Camera:IsNormalized>1</Camera:IsNormalized>\\r\\n<FLIR:MAVVersionID>0.3.0.0</FLIR:MAVVersionID>\\r\\n<FLIR:MAVComponentID>100</FLIR:MAVComponentID>\\r\\n<FLIR:MAVRelativeAltitude>0/1000</FLIR:MAVRelativeAltitude>\\r\\n<FLIR:MAVRateOfClimbRef>M</FLIR:MAVRateOfClimbRef>\\r\\n<FLIR:MAVRateOfClimb>0/1000</FLIR:MAVRateOfClimb>\\r\\n<FLIR:MAVYaw>0/100</FLIR:MAVYaw>\\r\\n<FLIR:MAVPitch>0/100</FLIR:MAVPitch>\\r\\n<FLIR:MAVRoll>0/100</FLIR:MAVRoll>\\r\\n<FLIR:MAVYawRate>0/100</FLIR:MAVYawRate>\\r\\n<FLIR:MAVPitchRate>0/100</FLIR:MAVPitchRate>\\r\\n<FLIR:MAVRollRate>0/100</FLIR:MAVRollRate>\\r\\n</rdf:Description>\\r\\n</rdf:RDF>\\r\\n<?xpacket end=\"w\"?>\\x00\\x00\\x0c\\x00\\x00\\x00\\x01\\x00\\x04\\x00\\x00\\x00\\x03\\x02\\x00\\x00\\x01\\x00\\x02\\x00\\x02\\x00\\x00\\x00N\\x00\\x00\\x00\\x02\\x00\\n\\x00\\x03\\x00\\x00\\x00\\xe8\\x07\\x00\\x00\\x03\\x00\\x02\\x00\\x02\\x00\\x00\\x00W\\x00\\x00\\x00\\x04\\x00\\n\\x00\\x03\\x00\\x00\\x00\\x00\\x08\\x00\\x00\\x05\\x00\\x01\\x00\\x01\\x00\\x00\\x00\\x00\\x00\\x00\\x00\\x06\\x00\\n\\x00\\x01\\x00\\x00\\x00\\x18\\x08\\x00\\x00\\x07\\x00\\x05\\x00\\x03\\x00\\x00\\x00(\\x08\\x00\\x00\\x0c\\x00\\x02\\x00\\x02\\x00\\x00\\x00K\\x00\\x00\\x00\\r\\x00\\n\\x00\\x01\\x00\\x00\\x00@\\x08\\x00\\x00\\x0e\\x00\\x02\\x00\\x02\\x00\\x00\\x00T\\x00\\x00\\x00\\x0f\\x00\\x05\\x00\\x01\\x00\\x00\\x00 \\x08\\x00\\x00\\x00\\x00\\x00\\x00&\\x00\\x00\\x00\\x01\\x00\\x00\\x005\\x00\\x00\\x00\\x01\\x00\\x00\\x00\\xe0x\\x05\\x11\\x80\\x96\\x98\\x00\\\\\\x00\\x00\\x00\\x01\\x00\\x00\\x00\\x0c\\x00\\x00\\x00\\x01\\x00\\x00\\x00`\\xf3l\\x1f\\x80\\x96\\x98\\x00^\\x8e\\x04\\x00\\xe8\\x03\\x00\\x00U\\x04\\x00\\x00d\\x00\\x00\\x00\\x0e\\x00\\x00\\x00\\x01\\x00\\x00\\x00\\x02\\x00\\x00\\x00\\x01\\x00\\x00\\x00!\\x00\\x00\\x00\\x01\\x00\\x00\\x00\\x9fM\\x00\\x00\\xe8\\x03\\x00\\x00\\x05\\x00\\x03\\x01\\x03\\x00\\x01\\x00\\x00\\x00\\x06\\x00\\x00\\x00\\x12\\x01\\x03\\x00\\x01\\x00\\x00\\x00\\x01\\x00\\x00\\x00\\x1a\\x01\\n\\x00\\x01\\x00\\x00\\x00\\x8a\\x08\\x00\\x00\\x1b\\x01\\n\\x00\\x01\\x00\\x00\\x00\\x92\\x08\\x00\\x00(\\x01\\x03\\x00\\x01\\x00\\x00\\x00\\x02\\x00\\x00\\x00\\x00\\x00\\x00\\x00H\\x00\\x00\\x00\\x01\\x00\\x00\\x00H\\x00\\x00\\x00\\x01\\x00\\x00\\x00'\n"
     ]
    }
   ],
   "source": [
    "import os\n",
    "import shutil\n",
    "from tkinter import Tk\n",
    "from tkinter.filedialog import askopenfilename, asksaveasfilename, askdirectory\n",
    "# import winsound\n",
    "\n",
    "import numpy as np\n",
    "import matplotlib\n",
    "from matplotlib import pyplot as plt\n",
    "from skimage import io\n",
    "from tkinter.filedialog import askdirectory\n",
    "import cv2\n",
    "import flirimageextractor\n",
    "from PIL import Image\n",
    "import piexif\n",
    "\n",
    "\n",
    "image_folder = 'radiometric_data/BRC_20190805_134604'\n",
    "image_list = os.listdir(image_folder)\n",
    "image_list = [elem for elem in image_list if elem.endswith('.JPG')]\n",
    "output_folder_RGB = 'radiometric_data/BRC_20190805_134604/1-RGB'\n",
    "output_folder_IR = 'radiometric_data/BRC_20190805_134604/2-IR'\n",
    "image_file = os.path.join(image_folder, image_list[120])\n",
    "\n",
    "fir = flirimageextractor.FlirImageExtractor()\n",
    "fir.process_image(image_file)\n",
    "img_rgb = fir.extract_embedded_image()\n",
    "img_ir = fir.extract_thermal_image()\n",
    "\n",
    "pil_rgb = Image.fromarray(img_rgb)\n",
    "pil_ir = Image.fromarray(img_ir)\n",
    "\n",
    "img = Image.open(image_file)\n",
    "exif_dict = piexif.load(img.info['exif'])\n",
    "exif_bytes = piexif.dump(exif_dict)\n",
    "print(exif_dict)\n",
    "exif_dict = img.info['exif']\n",
    "exif_bytes = exif_dict\n",
    "print()\n",
    "print(exif_dict)\n",
    "\n",
    "pil_rgb.save('pil_rgb_test.jpg', exif=exif_bytes)\n",
    "pil_ir.save('pil_ir_test.tiff', exif=exif_bytes)"
   ]
  },
  {
   "cell_type": "code",
   "execution_count": 83,
   "metadata": {},
   "outputs": [
    {
     "ename": "ValueError",
     "evalue": "Exif might be wrong. Got incorrect value type to decode.\ntag: 34665\ntype: 13",
     "output_type": "error",
     "traceback": [
      "\u001b[0;31m---------------------------------------------------------------------------\u001b[0m",
      "\u001b[0;31mValueError\u001b[0m                                Traceback (most recent call last)",
      "\u001b[0;32m<ipython-input-83-ff4cdd72013c>\u001b[0m in \u001b[0;36m<module>\u001b[0;34m\u001b[0m\n\u001b[1;32m      3\u001b[0m \u001b[0;31m# img = Image.open(image_file)\u001b[0m\u001b[0;34m\u001b[0m\u001b[0;34m\u001b[0m\u001b[0;34m\u001b[0m\u001b[0m\n\u001b[1;32m      4\u001b[0m \u001b[0;34m\u001b[0m\u001b[0m\n\u001b[0;32m----> 5\u001b[0;31m \u001b[0mexif_dict\u001b[0m \u001b[0;34m=\u001b[0m \u001b[0mpiexif\u001b[0m\u001b[0;34m.\u001b[0m\u001b[0mload\u001b[0m\u001b[0;34m(\u001b[0m\u001b[0mimage_file\u001b[0m\u001b[0;34m)\u001b[0m\u001b[0;34m\u001b[0m\u001b[0;34m\u001b[0m\u001b[0m\n\u001b[0m\u001b[1;32m      6\u001b[0m \u001b[0;31m# exif_bytes = piexif.dump(exif_dict)\u001b[0m\u001b[0;34m\u001b[0m\u001b[0;34m\u001b[0m\u001b[0;34m\u001b[0m\u001b[0m\n\u001b[1;32m      7\u001b[0m \u001b[0mprint\u001b[0m\u001b[0;34m(\u001b[0m\u001b[0mexif_dict\u001b[0m\u001b[0;34m)\u001b[0m\u001b[0;34m\u001b[0m\u001b[0;34m\u001b[0m\u001b[0m\n",
      "\u001b[0;32m~/opt/miniconda3/envs/hyperspect/lib/python3.8/site-packages/piexif/_load.py\u001b[0m in \u001b[0;36mload\u001b[0;34m(input_data, key_is_name)\u001b[0m\n\u001b[1;32m     37\u001b[0m     pointer = struct.unpack(exifReader.endian_mark + \"L\",\n\u001b[1;32m     38\u001b[0m                             exifReader.tiftag[4:8])[0]\n\u001b[0;32m---> 39\u001b[0;31m     \u001b[0mexif_dict\u001b[0m\u001b[0;34m[\u001b[0m\u001b[0;34m\"0th\"\u001b[0m\u001b[0;34m]\u001b[0m \u001b[0;34m=\u001b[0m \u001b[0mexifReader\u001b[0m\u001b[0;34m.\u001b[0m\u001b[0mget_ifd_dict\u001b[0m\u001b[0;34m(\u001b[0m\u001b[0mpointer\u001b[0m\u001b[0;34m,\u001b[0m \u001b[0;34m\"0th\"\u001b[0m\u001b[0;34m)\u001b[0m\u001b[0;34m\u001b[0m\u001b[0;34m\u001b[0m\u001b[0m\n\u001b[0m\u001b[1;32m     40\u001b[0m     \u001b[0mfirst_ifd_pointer\u001b[0m \u001b[0;34m=\u001b[0m \u001b[0mexif_dict\u001b[0m\u001b[0;34m[\u001b[0m\u001b[0;34m\"0th\"\u001b[0m\u001b[0;34m]\u001b[0m\u001b[0;34m.\u001b[0m\u001b[0mpop\u001b[0m\u001b[0;34m(\u001b[0m\u001b[0;34m\"first_ifd_pointer\"\u001b[0m\u001b[0;34m)\u001b[0m\u001b[0;34m\u001b[0m\u001b[0;34m\u001b[0m\u001b[0m\n\u001b[1;32m     41\u001b[0m     \u001b[0;32mif\u001b[0m \u001b[0mImageIFD\u001b[0m\u001b[0;34m.\u001b[0m\u001b[0mExifTag\u001b[0m \u001b[0;32min\u001b[0m \u001b[0mexif_dict\u001b[0m\u001b[0;34m[\u001b[0m\u001b[0;34m\"0th\"\u001b[0m\u001b[0;34m]\u001b[0m\u001b[0;34m:\u001b[0m\u001b[0;34m\u001b[0m\u001b[0;34m\u001b[0m\u001b[0m\n",
      "\u001b[0;32m~/opt/miniconda3/envs/hyperspect/lib/python3.8/site-packages/piexif/_load.py\u001b[0m in \u001b[0;36mget_ifd_dict\u001b[0;34m(self, pointer, ifd_name, read_unknown)\u001b[0m\n\u001b[1;32m    127\u001b[0m             \u001b[0mv_set\u001b[0m \u001b[0;34m=\u001b[0m \u001b[0;34m(\u001b[0m\u001b[0mvalue_type\u001b[0m\u001b[0;34m,\u001b[0m \u001b[0mvalue_num\u001b[0m\u001b[0;34m,\u001b[0m \u001b[0mvalue\u001b[0m\u001b[0;34m,\u001b[0m \u001b[0mtag\u001b[0m\u001b[0;34m)\u001b[0m\u001b[0;34m\u001b[0m\u001b[0;34m\u001b[0m\u001b[0m\n\u001b[1;32m    128\u001b[0m             \u001b[0;32mif\u001b[0m \u001b[0mtag\u001b[0m \u001b[0;32min\u001b[0m \u001b[0mTAGS\u001b[0m\u001b[0;34m[\u001b[0m\u001b[0mt\u001b[0m\u001b[0;34m]\u001b[0m\u001b[0;34m:\u001b[0m\u001b[0;34m\u001b[0m\u001b[0;34m\u001b[0m\u001b[0m\n\u001b[0;32m--> 129\u001b[0;31m                 \u001b[0mifd_dict\u001b[0m\u001b[0;34m[\u001b[0m\u001b[0mtag\u001b[0m\u001b[0;34m]\u001b[0m \u001b[0;34m=\u001b[0m \u001b[0mself\u001b[0m\u001b[0;34m.\u001b[0m\u001b[0mconvert_value\u001b[0m\u001b[0;34m(\u001b[0m\u001b[0mv_set\u001b[0m\u001b[0;34m)\u001b[0m\u001b[0;34m\u001b[0m\u001b[0;34m\u001b[0m\u001b[0m\n\u001b[0m\u001b[1;32m    130\u001b[0m             \u001b[0;32melif\u001b[0m \u001b[0mread_unknown\u001b[0m\u001b[0;34m:\u001b[0m\u001b[0;34m\u001b[0m\u001b[0;34m\u001b[0m\u001b[0m\n\u001b[1;32m    131\u001b[0m                 \u001b[0mifd_dict\u001b[0m\u001b[0;34m[\u001b[0m\u001b[0mtag\u001b[0m\u001b[0;34m]\u001b[0m \u001b[0;34m=\u001b[0m \u001b[0;34m(\u001b[0m\u001b[0mv_set\u001b[0m\u001b[0;34m[\u001b[0m\u001b[0;36m0\u001b[0m\u001b[0;34m]\u001b[0m\u001b[0;34m,\u001b[0m \u001b[0mv_set\u001b[0m\u001b[0;34m[\u001b[0m\u001b[0;36m1\u001b[0m\u001b[0;34m]\u001b[0m\u001b[0;34m,\u001b[0m \u001b[0mv_set\u001b[0m\u001b[0;34m[\u001b[0m\u001b[0;36m2\u001b[0m\u001b[0;34m]\u001b[0m\u001b[0;34m,\u001b[0m \u001b[0mself\u001b[0m\u001b[0;34m.\u001b[0m\u001b[0mtiftag\u001b[0m\u001b[0;34m)\u001b[0m\u001b[0;34m\u001b[0m\u001b[0;34m\u001b[0m\u001b[0m\n",
      "\u001b[0;32m~/opt/miniconda3/envs/hyperspect/lib/python3.8/site-packages/piexif/_load.py\u001b[0m in \u001b[0;36mconvert_value\u001b[0;34m(self, val)\u001b[0m\n\u001b[1;32m    249\u001b[0m                                     self.tiftag[pointer: pointer+length*8])\n\u001b[1;32m    250\u001b[0m         \u001b[0;32melse\u001b[0m\u001b[0;34m:\u001b[0m\u001b[0;34m\u001b[0m\u001b[0;34m\u001b[0m\u001b[0m\n\u001b[0;32m--> 251\u001b[0;31m             raise ValueError(\"Exif might be wrong. Got incorrect value \" +\n\u001b[0m\u001b[1;32m    252\u001b[0m                              \u001b[0;34m\"type to decode.\\n\"\u001b[0m \u001b[0;34m+\u001b[0m\u001b[0;34m\u001b[0m\u001b[0;34m\u001b[0m\u001b[0m\n\u001b[1;32m    253\u001b[0m                              \"tag: \" + str(val[3]) + \"\\ntype: \" + str(t))\n",
      "\u001b[0;31mValueError\u001b[0m: Exif might be wrong. Got incorrect value type to decode.\ntag: 34665\ntype: 13"
     ]
    }
   ],
   "source": [
    "image_file = '20190824_121031_346.TIFF'\n",
    "\n",
    "# img = Image.open(image_file)\n",
    "\n",
    "exif_dict = piexif.load(image_file)\n",
    "# exif_bytes = piexif.dump(exif_dict)\n",
    "print(exif_dict)\n",
    "\n",
    "\n",
    "# img.save('test_ir.tiff', exif=exif_bytes)"
   ]
  },
  {
   "cell_type": "code",
   "execution_count": 81,
   "metadata": {},
   "outputs": [
    {
     "ename": "TypeError",
     "evalue": "Object of type bytes is not JSON serializable",
     "output_type": "error",
     "traceback": [
      "\u001b[0;31m---------------------------------------------------------------------------\u001b[0m",
      "\u001b[0;31mTypeError\u001b[0m                                 Traceback (most recent call last)",
      "\u001b[0;32m<ipython-input-81-4946c864f969>\u001b[0m in \u001b[0;36m<module>\u001b[0;34m\u001b[0m\n\u001b[1;32m      8\u001b[0m     \u001b[0mimage\u001b[0m \u001b[0;34m=\u001b[0m \u001b[0mtif\u001b[0m\u001b[0;34m.\u001b[0m\u001b[0mpages\u001b[0m\u001b[0;34m[\u001b[0m\u001b[0;36m0\u001b[0m\u001b[0;34m]\u001b[0m\u001b[0;34m.\u001b[0m\u001b[0masarray\u001b[0m\u001b[0;34m(\u001b[0m\u001b[0;34m)\u001b[0m\u001b[0;34m\u001b[0m\u001b[0;34m\u001b[0m\u001b[0m\n\u001b[1;32m      9\u001b[0m \u001b[0;34m\u001b[0m\u001b[0m\n\u001b[0;32m---> 10\u001b[0;31m \u001b[0mtif_tags\u001b[0m \u001b[0;34m=\u001b[0m \u001b[0mjson\u001b[0m\u001b[0;34m.\u001b[0m\u001b[0mdumps\u001b[0m\u001b[0;34m(\u001b[0m\u001b[0mtif_tags\u001b[0m\u001b[0;34m)\u001b[0m\u001b[0;34m\u001b[0m\u001b[0;34m\u001b[0m\u001b[0m\n\u001b[0m\u001b[1;32m     11\u001b[0m \u001b[0;34m\u001b[0m\u001b[0m\n\u001b[1;32m     12\u001b[0m \u001b[0mtifffile\u001b[0m\u001b[0;34m.\u001b[0m\u001b[0mimsave\u001b[0m\u001b[0;34m(\u001b[0m\u001b[0;34m'tiff_exif_test.tiff'\u001b[0m\u001b[0;34m,\u001b[0m \u001b[0mimage\u001b[0m\u001b[0;34m,\u001b[0m \u001b[0mdescription\u001b[0m\u001b[0;34m=\u001b[0m\u001b[0mtif_tags\u001b[0m\u001b[0;34m)\u001b[0m\u001b[0;34m\u001b[0m\u001b[0;34m\u001b[0m\u001b[0m\n",
      "\u001b[0;32m~/opt/miniconda3/envs/hyperspect/lib/python3.8/json/__init__.py\u001b[0m in \u001b[0;36mdumps\u001b[0;34m(obj, skipkeys, ensure_ascii, check_circular, allow_nan, cls, indent, separators, default, sort_keys, **kw)\u001b[0m\n\u001b[1;32m    229\u001b[0m         \u001b[0mcls\u001b[0m \u001b[0;32mis\u001b[0m \u001b[0;32mNone\u001b[0m \u001b[0;32mand\u001b[0m \u001b[0mindent\u001b[0m \u001b[0;32mis\u001b[0m \u001b[0;32mNone\u001b[0m \u001b[0;32mand\u001b[0m \u001b[0mseparators\u001b[0m \u001b[0;32mis\u001b[0m \u001b[0;32mNone\u001b[0m \u001b[0;32mand\u001b[0m\u001b[0;34m\u001b[0m\u001b[0;34m\u001b[0m\u001b[0m\n\u001b[1;32m    230\u001b[0m         default is None and not sort_keys and not kw):\n\u001b[0;32m--> 231\u001b[0;31m         \u001b[0;32mreturn\u001b[0m \u001b[0m_default_encoder\u001b[0m\u001b[0;34m.\u001b[0m\u001b[0mencode\u001b[0m\u001b[0;34m(\u001b[0m\u001b[0mobj\u001b[0m\u001b[0;34m)\u001b[0m\u001b[0;34m\u001b[0m\u001b[0;34m\u001b[0m\u001b[0m\n\u001b[0m\u001b[1;32m    232\u001b[0m     \u001b[0;32mif\u001b[0m \u001b[0mcls\u001b[0m \u001b[0;32mis\u001b[0m \u001b[0;32mNone\u001b[0m\u001b[0;34m:\u001b[0m\u001b[0;34m\u001b[0m\u001b[0;34m\u001b[0m\u001b[0m\n\u001b[1;32m    233\u001b[0m         \u001b[0mcls\u001b[0m \u001b[0;34m=\u001b[0m \u001b[0mJSONEncoder\u001b[0m\u001b[0;34m\u001b[0m\u001b[0;34m\u001b[0m\u001b[0m\n",
      "\u001b[0;32m~/opt/miniconda3/envs/hyperspect/lib/python3.8/json/encoder.py\u001b[0m in \u001b[0;36mencode\u001b[0;34m(self, o)\u001b[0m\n\u001b[1;32m    197\u001b[0m         \u001b[0;31m# exceptions aren't as detailed.  The list call should be roughly\u001b[0m\u001b[0;34m\u001b[0m\u001b[0;34m\u001b[0m\u001b[0;34m\u001b[0m\u001b[0m\n\u001b[1;32m    198\u001b[0m         \u001b[0;31m# equivalent to the PySequence_Fast that ''.join() would do.\u001b[0m\u001b[0;34m\u001b[0m\u001b[0;34m\u001b[0m\u001b[0;34m\u001b[0m\u001b[0m\n\u001b[0;32m--> 199\u001b[0;31m         \u001b[0mchunks\u001b[0m \u001b[0;34m=\u001b[0m \u001b[0mself\u001b[0m\u001b[0;34m.\u001b[0m\u001b[0miterencode\u001b[0m\u001b[0;34m(\u001b[0m\u001b[0mo\u001b[0m\u001b[0;34m,\u001b[0m \u001b[0m_one_shot\u001b[0m\u001b[0;34m=\u001b[0m\u001b[0;32mTrue\u001b[0m\u001b[0;34m)\u001b[0m\u001b[0;34m\u001b[0m\u001b[0;34m\u001b[0m\u001b[0m\n\u001b[0m\u001b[1;32m    200\u001b[0m         \u001b[0;32mif\u001b[0m \u001b[0;32mnot\u001b[0m \u001b[0misinstance\u001b[0m\u001b[0;34m(\u001b[0m\u001b[0mchunks\u001b[0m\u001b[0;34m,\u001b[0m \u001b[0;34m(\u001b[0m\u001b[0mlist\u001b[0m\u001b[0;34m,\u001b[0m \u001b[0mtuple\u001b[0m\u001b[0;34m)\u001b[0m\u001b[0;34m)\u001b[0m\u001b[0;34m:\u001b[0m\u001b[0;34m\u001b[0m\u001b[0;34m\u001b[0m\u001b[0m\n\u001b[1;32m    201\u001b[0m             \u001b[0mchunks\u001b[0m \u001b[0;34m=\u001b[0m \u001b[0mlist\u001b[0m\u001b[0;34m(\u001b[0m\u001b[0mchunks\u001b[0m\u001b[0;34m)\u001b[0m\u001b[0;34m\u001b[0m\u001b[0;34m\u001b[0m\u001b[0m\n",
      "\u001b[0;32m~/opt/miniconda3/envs/hyperspect/lib/python3.8/json/encoder.py\u001b[0m in \u001b[0;36miterencode\u001b[0;34m(self, o, _one_shot)\u001b[0m\n\u001b[1;32m    255\u001b[0m                 \u001b[0mself\u001b[0m\u001b[0;34m.\u001b[0m\u001b[0mkey_separator\u001b[0m\u001b[0;34m,\u001b[0m \u001b[0mself\u001b[0m\u001b[0;34m.\u001b[0m\u001b[0mitem_separator\u001b[0m\u001b[0;34m,\u001b[0m \u001b[0mself\u001b[0m\u001b[0;34m.\u001b[0m\u001b[0msort_keys\u001b[0m\u001b[0;34m,\u001b[0m\u001b[0;34m\u001b[0m\u001b[0;34m\u001b[0m\u001b[0m\n\u001b[1;32m    256\u001b[0m                 self.skipkeys, _one_shot)\n\u001b[0;32m--> 257\u001b[0;31m         \u001b[0;32mreturn\u001b[0m \u001b[0m_iterencode\u001b[0m\u001b[0;34m(\u001b[0m\u001b[0mo\u001b[0m\u001b[0;34m,\u001b[0m \u001b[0;36m0\u001b[0m\u001b[0;34m)\u001b[0m\u001b[0;34m\u001b[0m\u001b[0;34m\u001b[0m\u001b[0m\n\u001b[0m\u001b[1;32m    258\u001b[0m \u001b[0;34m\u001b[0m\u001b[0m\n\u001b[1;32m    259\u001b[0m def _make_iterencode(markers, _default, _encoder, _indent, _floatstr,\n",
      "\u001b[0;32m~/opt/miniconda3/envs/hyperspect/lib/python3.8/json/encoder.py\u001b[0m in \u001b[0;36mdefault\u001b[0;34m(self, o)\u001b[0m\n\u001b[1;32m    177\u001b[0m \u001b[0;34m\u001b[0m\u001b[0m\n\u001b[1;32m    178\u001b[0m         \"\"\"\n\u001b[0;32m--> 179\u001b[0;31m         raise TypeError(f'Object of type {o.__class__.__name__} '\n\u001b[0m\u001b[1;32m    180\u001b[0m                         f'is not JSON serializable')\n\u001b[1;32m    181\u001b[0m \u001b[0;34m\u001b[0m\u001b[0m\n",
      "\u001b[0;31mTypeError\u001b[0m: Object of type bytes is not JSON serializable"
     ]
    }
   ],
   "source": [
    "import tifffile\n",
    "import json\n",
    "with tifffile.TiffFile('20190824_121031_346.TIFF') as tif:\n",
    "    tif_tags = {}\n",
    "    for tag in tif.pages[0].tags.values():\n",
    "        name, value = tag.name, tag.value\n",
    "        tif_tags[name] = value\n",
    "    image = tif.pages[0].asarray()\n",
    "\n",
    "tif_tags = json.dumps(tif_tags)\n",
    "    \n",
    "tifffile.imsave('tiff_exif_test.tiff', image, description=tif_tags)"
   ]
  },
  {
   "cell_type": "code",
   "execution_count": 80,
   "metadata": {},
   "outputs": [
    {
     "data": {
      "text/plain": [
       "dict"
      ]
     },
     "execution_count": 80,
     "metadata": {},
     "output_type": "execute_result"
    }
   ],
   "source": [
    "type(tif_tags)"
   ]
  }
 ],
 "metadata": {
  "kernelspec": {
   "display_name": "Python 3",
   "language": "python",
   "name": "python3"
  },
  "language_info": {
   "codemirror_mode": {
    "name": "ipython",
    "version": 3
   },
   "file_extension": ".py",
   "mimetype": "text/x-python",
   "name": "python",
   "nbconvert_exporter": "python",
   "pygments_lexer": "ipython3",
   "version": "3.8.5"
  }
 },
 "nbformat": 4,
 "nbformat_minor": 4
}
